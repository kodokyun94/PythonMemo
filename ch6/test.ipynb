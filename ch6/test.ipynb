{
 "cells": [
  {
   "cell_type": "code",
   "id": "initial_id",
   "metadata": {
    "collapsed": true,
    "ExecuteTime": {
     "end_time": "2024-07-18T05:58:05.930100Z",
     "start_time": "2024-07-18T05:58:05.925707Z"
    }
   },
   "source": [
    "class CatSoccerPlayer(object):\n",
    "    def __init__(self,name,position,back_number):\n",
    "        self.name = name\n",
    "        self.position = position\n",
    "        self.back_number = back_number\n",
    "    \n",
    "    def change_back_number(self,new_number):\n",
    "        print(f\"현재 등번호 {self.back_number} to {new_number}\")\n",
    "        self.back_number = new_number\n",
    "        \n",
    "    def __str__(self):\n",
    "        return f'이름: {self.name}, 포지션: {self.position}, 등번호: {self.back_number}'\n",
    "        "
   ],
   "outputs": [],
   "execution_count": 24
  },
  {
   "metadata": {
    "ExecuteTime": {
     "end_time": "2024-07-18T05:58:05.935432Z",
     "start_time": "2024-07-18T05:58:05.931102Z"
    }
   },
   "cell_type": "code",
   "source": [
    "#인스턴스 생성하기. \n",
    "lsyCatPlayer1 = CatSoccerPlayer(\"상용고양이선수1\",\"MF\",\"100\")\n",
    "print(lsyCatPlayer1)"
   ],
   "id": "d78ec13b7bbae978",
   "outputs": [
    {
     "name": "stdout",
     "output_type": "stream",
     "text": [
      "이름: 상용고양이선수1, 포지션: MF, 등번호: 100\n"
     ]
    }
   ],
   "execution_count": 25
  },
  {
   "metadata": {
    "ExecuteTime": {
     "end_time": "2024-07-18T05:58:05.939414Z",
     "start_time": "2024-07-18T05:58:05.936434Z"
    }
   },
   "cell_type": "code",
   "source": "lsyCatPlayer1.change_back_number(\"200\")",
   "id": "762298a60a17ea7e",
   "outputs": [
    {
     "name": "stdout",
     "output_type": "stream",
     "text": [
      "현재 등번호 100 to 200\n"
     ]
    }
   ],
   "execution_count": 26
  },
  {
   "metadata": {
    "ExecuteTime": {
     "end_time": "2024-07-18T05:58:05.944427Z",
     "start_time": "2024-07-18T05:58:05.940416Z"
    }
   },
   "cell_type": "code",
   "source": [
    "# name, position, back_number\n",
    "class LoadCat(CatSoccerPlayer):\n",
    "    def __init__(self,name,position,back_number,team_name,salary):\n",
    "        super().__init__(name,position,back_number)\n",
    "        self.team_name = team_name\n",
    "        self.salary = salary\n",
    "    \n",
    "    def upgrade_salary(self,new_salary):\n",
    "        self.salary = new_salary\n",
    "        print(f\"{self.name}님의 연봉은 곧 {new_salary}로 곧 상향됨\")\n",
    "    \n",
    "    def change_back_number(self,new_number):\n",
    "        super().change_back_number(new_number)\n",
    "        print(\"부모 메서드 호출 후, 내꺼 메서드 호출함. \")\n",
    "    \n",
    "    def __str__(self):\n",
    "        return \"안녕하세용 길고양이 선수 : %s, 연봉은 : %s , 소속팀은: %s 만나서 반가워요\" % (self.name, self.salary, self.team_name)\n",
    "        \n",
    "    "
   ],
   "id": "6ed16536e1afb53c",
   "outputs": [],
   "execution_count": 27
  },
  {
   "metadata": {
    "ExecuteTime": {
     "end_time": "2024-07-18T05:58:05.948351Z",
     "start_time": "2024-07-18T05:58:05.945429Z"
    }
   },
   "cell_type": "code",
   "source": [
    "lsyLoadCat = LoadCat(\"상용길고양이\",\"MF\",\"100\",\"한국 국가대표 길고양이팀\",\"1억\")\n",
    "print(lsyLoadCat)"
   ],
   "id": "a5e6899764bf75dc",
   "outputs": [
    {
     "name": "stdout",
     "output_type": "stream",
     "text": [
      "안녕하세용 길고양이 선수 : 상용길고양이, 연봉은 : 1억 , 소속팀은: 한국 국가대표 길고양이팀 만나서 반가워요\n"
     ]
    }
   ],
   "execution_count": 28
  },
  {
   "metadata": {
    "ExecuteTime": {
     "end_time": "2024-07-18T05:58:05.952391Z",
     "start_time": "2024-07-18T05:58:05.949352Z"
    }
   },
   "cell_type": "code",
   "source": "lsyLoadCat.change_back_number(\"300\")",
   "id": "246a78940c003709",
   "outputs": [
    {
     "name": "stdout",
     "output_type": "stream",
     "text": [
      "현재 등번호 100 to 300\n",
      "부모 메서드 호출 후, 내꺼 메서드 호출함. \n"
     ]
    }
   ],
   "execution_count": 29
  },
  {
   "metadata": {
    "ExecuteTime": {
     "end_time": "2024-07-18T05:58:05.954894Z",
     "start_time": "2024-07-18T05:58:05.952391Z"
    }
   },
   "cell_type": "code",
   "source": "",
   "id": "3f4df30a95d83b62",
   "outputs": [],
   "execution_count": 29
  }
 ],
 "metadata": {
  "kernelspec": {
   "display_name": "Python 3",
   "language": "python",
   "name": "python3"
  },
  "language_info": {
   "codemirror_mode": {
    "name": "ipython",
    "version": 2
   },
   "file_extension": ".py",
   "mimetype": "text/x-python",
   "name": "python",
   "nbconvert_exporter": "python",
   "pygments_lexer": "ipython2",
   "version": "2.7.6"
  }
 },
 "nbformat": 4,
 "nbformat_minor": 5
}
