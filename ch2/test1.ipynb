{
 "cells": [
  {
   "cell_type": "code",
   "id": "initial_id",
   "metadata": {
    "collapsed": true,
    "ExecuteTime": {
     "end_time": "2024-07-17T01:27:26.985427Z",
     "start_time": "2024-07-17T01:27:26.982328Z"
    }
   },
   "source": "print(\"오늘 점심 뭐 먹죠?\")",
   "outputs": [
    {
     "name": "stdout",
     "output_type": "stream",
     "text": [
      "오늘 점심 뭐 먹죠?\n"
     ]
    }
   ],
   "execution_count": 3
  },
  {
   "metadata": {
    "ExecuteTime": {
     "end_time": "2024-07-17T01:36:11.617902Z",
     "start_time": "2024-07-17T01:36:11.614024Z"
    }
   },
   "cell_type": "code",
   "source": [
    "lunchMenu = '비빔밥'\n",
    "price = 8000\n",
    "print(lunchMenu,price)\n",
    "print(type(lunchMenu),type(price))"
   ],
   "id": "2ef6b627fd0cc31a",
   "outputs": [
    {
     "name": "stdout",
     "output_type": "stream",
     "text": [
      "비빔밥 8000\n",
      "<class 'str'> <class 'int'>\n"
     ]
    }
   ],
   "execution_count": 5
  },
  {
   "metadata": {
    "ExecuteTime": {
     "end_time": "2024-07-17T01:37:37.894030Z",
     "start_time": "2024-07-17T01:37:37.889899Z"
    }
   },
   "cell_type": "code",
   "source": [
    "priceFloat = float(price)\n",
    "priceStr = str(price)\n",
    "print(priceFloat,priceStr)\n",
    "print(type(priceFloat),type(priceStr))"
   ],
   "id": "546eed2a35d372fa",
   "outputs": [
    {
     "name": "stdout",
     "output_type": "stream",
     "text": [
      "8000.0 8000\n",
      "<class 'float'> <class 'str'>\n"
     ]
    }
   ],
   "execution_count": 7
  },
  {
   "metadata": {
    "ExecuteTime": {
     "end_time": "2024-07-17T01:39:02.079849Z",
     "start_time": "2024-07-17T01:39:02.075830Z"
    }
   },
   "cell_type": "code",
   "source": [
    "varA = 1\n",
    "print(id(varA))"
   ],
   "id": "899d9b7934c8605c",
   "outputs": [
    {
     "name": "stdout",
     "output_type": "stream",
     "text": [
      "140716179388856\n"
     ]
    }
   ],
   "execution_count": 8
  },
  {
   "metadata": {
    "ExecuteTime": {
     "end_time": "2024-07-17T01:43:35.934291Z",
     "start_time": "2024-07-17T01:43:35.929855Z"
    }
   },
   "cell_type": "code",
   "source": "print(\"오늘 먹을 점심 : %s, 가격 : %d원\" %(lunchMenu,price))",
   "id": "bf368ee2015e3674",
   "outputs": [
    {
     "name": "stdout",
     "output_type": "stream",
     "text": [
      "오늘 먹을 점심 : 비빔밥, 가격 : 8000원\n"
     ]
    }
   ],
   "execution_count": 9
  },
  {
   "metadata": {
    "ExecuteTime": {
     "end_time": "2024-07-17T01:45:41.745536Z",
     "start_time": "2024-07-17T01:45:41.741784Z"
    }
   },
   "cell_type": "code",
   "source": "print(f\"오늘 먹을 점심 : {lunchMenu}, 가격 : {price}원\")",
   "id": "8e587c9550d55d0b",
   "outputs": [
    {
     "name": "stdout",
     "output_type": "stream",
     "text": [
      "오늘 먹을 점심 : 비빔밥, 가격 : 8000원\n"
     ]
    }
   ],
   "execution_count": 11
  },
  {
   "metadata": {
    "ExecuteTime": {
     "end_time": "2024-07-17T01:47:52.095293Z",
     "start_time": "2024-07-17T01:47:46.321394Z"
    }
   },
   "cell_type": "code",
   "source": [
    "todayLunchMenuInput = input(\"오늘 먹고 싶은 메뉴 입력 해 주시죠?\")\n",
    "print(f\"오늘 먹을 점심 : {todayLunchMenuInput} !!!\")"
   ],
   "id": "25643a107097984d",
   "outputs": [
    {
     "name": "stdout",
     "output_type": "stream",
     "text": [
      "오늘 먹을 점심 : 비빔밥 !!!\n"
     ]
    }
   ],
   "execution_count": 12
  },
  {
   "metadata": {
    "ExecuteTime": {
     "end_time": "2024-07-17T02:21:22.371148Z",
     "start_time": "2024-07-17T02:21:22.367884Z"
    }
   },
   "cell_type": "code",
   "source": "todayMenuList = [\"돈까스\", \"모밀\", \"도시락\", \"참깨라면\",\"제육볶음\", \"국수\",\"된장찌개\",\"국밥\"]\n",
   "id": "6ddcb6db59ef474c",
   "outputs": [],
   "execution_count": 1
  },
  {
   "metadata": {
    "ExecuteTime": {
     "end_time": "2024-07-17T02:21:50.179765Z",
     "start_time": "2024-07-17T02:21:50.176543Z"
    }
   },
   "cell_type": "code",
   "source": "print(todayMenuList[:])",
   "id": "96f030e36e395473",
   "outputs": [
    {
     "name": "stdout",
     "output_type": "stream",
     "text": [
      "['돈까스', '모밀', '도시락', '참깨라면', '제육볶음', '국수', '된장찌개', '국밥']\n"
     ]
    }
   ],
   "execution_count": 2
  },
  {
   "metadata": {
    "ExecuteTime": {
     "end_time": "2024-07-17T02:22:06.004947Z",
     "start_time": "2024-07-17T02:22:06.001930Z"
    }
   },
   "cell_type": "code",
   "source": "print(todayMenuList[0:2])",
   "id": "f7fed1c3c8bb22da",
   "outputs": [
    {
     "name": "stdout",
     "output_type": "stream",
     "text": [
      "['돈까스', '모밀']\n"
     ]
    }
   ],
   "execution_count": 3
  },
  {
   "metadata": {
    "ExecuteTime": {
     "end_time": "2024-07-17T02:25:37.779192Z",
     "start_time": "2024-07-17T02:25:37.776043Z"
    }
   },
   "cell_type": "code",
   "source": "print(todayMenuList[:5])",
   "id": "4e9b647d4a24154d",
   "outputs": [
    {
     "name": "stdout",
     "output_type": "stream",
     "text": [
      "['돈까스', '모밀', '도시락', '참깨라면', '제육볶음']\n"
     ]
    }
   ],
   "execution_count": 6
  },
  {
   "metadata": {
    "ExecuteTime": {
     "end_time": "2024-07-17T02:29:05.406844Z",
     "start_time": "2024-07-17T02:29:05.404071Z"
    }
   },
   "cell_type": "code",
   "source": "print(todayMenuList[0:8:2])",
   "id": "787e08dcc81e8fff",
   "outputs": [
    {
     "name": "stdout",
     "output_type": "stream",
     "text": [
      "['돈까스', '도시락', '제육볶음', '된장찌개']\n"
     ]
    }
   ],
   "execution_count": 8
  },
  {
   "metadata": {
    "ExecuteTime": {
     "end_time": "2024-07-17T02:31:38.169627Z",
     "start_time": "2024-07-17T02:31:38.165630Z"
    }
   },
   "cell_type": "code",
   "source": "print(todayMenuList[::-1])",
   "id": "de9934100e6cd852",
   "outputs": [
    {
     "name": "stdout",
     "output_type": "stream",
     "text": [
      "['국밥', '된장찌개', '국수', '제육볶음', '참깨라면', '도시락', '모밀', '돈까스']\n"
     ]
    }
   ],
   "execution_count": 9
  },
  {
   "metadata": {
    "ExecuteTime": {
     "end_time": "2024-07-17T02:35:25.306450Z",
     "start_time": "2024-07-17T02:35:25.303276Z"
    }
   },
   "cell_type": "code",
   "source": [
    "menuResultIn = \"참깨라면\" in todayMenuList\n",
    "print(menuResultIn)"
   ],
   "id": "d52a7208ff825b95",
   "outputs": [
    {
     "name": "stdout",
     "output_type": "stream",
     "text": [
      "True\n"
     ]
    }
   ],
   "execution_count": 12
  },
  {
   "metadata": {
    "ExecuteTime": {
     "end_time": "2024-07-17T02:37:27.627150Z",
     "start_time": "2024-07-17T02:37:27.623515Z"
    }
   },
   "cell_type": "code",
   "source": [
    "todayMenuList.append(\"라면\")\n",
    "print(todayMenuList)"
   ],
   "id": "13524c600904a27f",
   "outputs": [
    {
     "name": "stdout",
     "output_type": "stream",
     "text": [
      "['돈까스', '모밀', '도시락', '참깨라면', '제육볶음', '국수', '된장찌개', '국밥', '라면', '라면']\n"
     ]
    }
   ],
   "execution_count": 14
  },
  {
   "metadata": {
    "ExecuteTime": {
     "end_time": "2024-07-17T02:38:37.202350Z",
     "start_time": "2024-07-17T02:38:37.199255Z"
    }
   },
   "cell_type": "code",
   "source": [
    "tomorrowMenuList = [\"치킨\",\"서브웨이\",\"빵\"]\n",
    "todayMenuList.extend(tomorrowMenuList)\n",
    "print(todayMenuList)"
   ],
   "id": "7ccc8d190e8c4d85",
   "outputs": [
    {
     "name": "stdout",
     "output_type": "stream",
     "text": [
      "['돈까스', '모밀', '도시락', '참깨라면', '제육볶음', '국수', '된장찌개', '국밥', '라면', '라면', '치킨', '서브웨이', '빵']\n"
     ]
    }
   ],
   "execution_count": 15
  },
  {
   "metadata": {
    "ExecuteTime": {
     "end_time": "2024-07-17T02:39:42.122807Z",
     "start_time": "2024-07-17T02:39:42.119345Z"
    }
   },
   "cell_type": "code",
   "source": [
    "todayMenuList.remove(\"라면\")\n",
    "print(todayMenuList)"
   ],
   "id": "8a9614440d2d4383",
   "outputs": [
    {
     "name": "stdout",
     "output_type": "stream",
     "text": [
      "['돈까스', '모밀', '도시락', '참깨라면', '제육볶음', '국수', '된장찌개', '국밥', '라면', '치킨', '서브웨이', '빵']\n"
     ]
    }
   ],
   "execution_count": 16
  },
  {
   "metadata": {
    "ExecuteTime": {
     "end_time": "2024-07-17T02:40:33.751451Z",
     "start_time": "2024-07-17T02:40:33.747535Z"
    }
   },
   "cell_type": "code",
   "source": [
    "addMenuList = [\"초밥\",\"스테이크\",\"피자\"]\n",
    "todayMenuList.insert(1,addMenuList)\n",
    "print(todayMenuList)"
   ],
   "id": "f54bbaf4ee553b7",
   "outputs": [
    {
     "name": "stdout",
     "output_type": "stream",
     "text": [
      "['돈까스', ['초밥', '스테이크', '피자'], '모밀', '도시락', '참깨라면', '제육볶음', '국수', '된장찌개', '국밥', '라면', '치킨', '서브웨이', '빵']\n"
     ]
    }
   ],
   "execution_count": 17
  },
  {
   "metadata": {
    "ExecuteTime": {
     "end_time": "2024-07-17T02:41:32.440750Z",
     "start_time": "2024-07-17T02:41:32.437452Z"
    }
   },
   "cell_type": "code",
   "source": "print(todayMenuList[1][2])",
   "id": "7426d92f0112ffda",
   "outputs": [
    {
     "name": "stdout",
     "output_type": "stream",
     "text": [
      "피자\n"
     ]
    }
   ],
   "execution_count": 18
  },
  {
   "metadata": {
    "ExecuteTime": {
     "end_time": "2024-07-17T02:42:01.451012Z",
     "start_time": "2024-07-17T02:42:01.447737Z"
    }
   },
   "cell_type": "code",
   "source": "print(todayMenuList[1][:])",
   "id": "7eb1ef5b2d35eb4f",
   "outputs": [
    {
     "name": "stdout",
     "output_type": "stream",
     "text": [
      "['초밥', '스테이크', '피자']\n"
     ]
    }
   ],
   "execution_count": 19
  },
  {
   "metadata": {
    "ExecuteTime": {
     "end_time": "2024-07-17T02:42:07.987936Z",
     "start_time": "2024-07-17T02:42:07.983980Z"
    }
   },
   "cell_type": "code",
   "source": "print(todayMenuList[1][::-1])",
   "id": "578619a134f6e29e",
   "outputs": [
    {
     "name": "stdout",
     "output_type": "stream",
     "text": [
      "['피자', '스테이크', '초밥']\n"
     ]
    }
   ],
   "execution_count": 20
  },
  {
   "metadata": {
    "ExecuteTime": {
     "end_time": "2024-07-17T02:43:57.920124Z",
     "start_time": "2024-07-17T02:43:57.916295Z"
    }
   },
   "cell_type": "code",
   "source": [
    "todayMenuList.remove(\"치킨\")\n",
    "print(todayMenuList)"
   ],
   "id": "5f22fc1d25977676",
   "outputs": [
    {
     "name": "stdout",
     "output_type": "stream",
     "text": [
      "['돈까스', ['초밥', '스테이크', '피자'], '모밀', '도시락', '참깨라면', '제육볶음', '국수', '된장찌개', '국밥', '라면', '서브웨이', '빵']\n"
     ]
    }
   ],
   "execution_count": 22
  },
  {
   "metadata": {
    "ExecuteTime": {
     "end_time": "2024-07-17T02:45:32.293515Z",
     "start_time": "2024-07-17T02:45:32.290018Z"
    }
   },
   "cell_type": "code",
   "source": "todayMenuList.append(\"치킨3\")",
   "id": "91d051fd41c6003",
   "outputs": [],
   "execution_count": 28
  },
  {
   "metadata": {
    "ExecuteTime": {
     "end_time": "2024-07-17T02:45:33.730494Z",
     "start_time": "2024-07-17T02:45:33.727159Z"
    }
   },
   "cell_type": "code",
   "source": "print(todayMenuList)",
   "id": "28dd2af4a0865a96",
   "outputs": [
    {
     "name": "stdout",
     "output_type": "stream",
     "text": [
      "['돈까스', ['초밥', '스테이크', '피자'], '모밀', '도시락', '참깨라면', '제육볶음', '국수', '된장찌개', '국밥', '라면', '서브웨이', '빵', '치킨', '치킨', '치킨', '치킨1', '치킨2', '치킨3']\n"
     ]
    }
   ],
   "execution_count": 29
  },
  {
   "metadata": {
    "ExecuteTime": {
     "end_time": "2024-07-17T02:46:09.836908Z",
     "start_time": "2024-07-17T02:46:09.832601Z"
    }
   },
   "cell_type": "code",
   "source": [
    "todayMenuList.remove(\"치킨\")\n",
    "print(todayMenuList)"
   ],
   "id": "242e64e5c6137445",
   "outputs": [
    {
     "name": "stdout",
     "output_type": "stream",
     "text": [
      "['돈까스', ['초밥', '스테이크', '피자'], '모밀', '도시락', '참깨라면', '제육볶음', '국수', '된장찌개', '국밥', '라면', '서브웨이', '빵', '치킨1', '치킨2', '치킨3']\n"
     ]
    }
   ],
   "execution_count": 32
  },
  {
   "metadata": {
    "ExecuteTime": {
     "end_time": "2024-07-17T03:04:51.826578Z",
     "start_time": "2024-07-17T03:04:51.822959Z"
    }
   },
   "cell_type": "code",
   "source": [
    "todayMenuList[-3] = \"면\"\n",
    "print(todayMenuList)"
   ],
   "id": "2fc52a2bbaa6cab1",
   "outputs": [
    {
     "name": "stdout",
     "output_type": "stream",
     "text": [
      "['돈까스', ['초밥', '스테이크', '피자'], '모밀', '도시락', '참깨라면', '제육볶음', '국수', '된장찌개', '국밥', '라면', '서브웨이', '빵', '면', '치킨2', '치킨3']\n"
     ]
    }
   ],
   "execution_count": 33
  },
  {
   "metadata": {
    "ExecuteTime": {
     "end_time": "2024-07-17T03:05:33.029141Z",
     "start_time": "2024-07-17T03:05:33.024840Z"
    }
   },
   "cell_type": "code",
   "source": [
    "del todayMenuList[-3]\n",
    "print(todayMenuList)"
   ],
   "id": "20183a95bd9ad1ea",
   "outputs": [
    {
     "name": "stdout",
     "output_type": "stream",
     "text": [
      "['돈까스', ['초밥', '스테이크', '피자'], '모밀', '도시락', '참깨라면', '제육볶음', '국수', '된장찌개', '국밥', '라면', '서브웨이', '치킨2', '치킨3']\n"
     ]
    }
   ],
   "execution_count": 35
  },
  {
   "metadata": {
    "ExecuteTime": {
     "end_time": "2024-07-17T03:08:41.758335Z",
     "start_time": "2024-07-17T03:08:41.755392Z"
    }
   },
   "cell_type": "code",
   "source": [
    "todayDinnerMenu = [\"스테이크\",\"초밥\",\"김치\",\"치킨\",\"피자\"]\n",
    "print(todayDinnerMenu)"
   ],
   "id": "2e82287f06512509",
   "outputs": [
    {
     "name": "stdout",
     "output_type": "stream",
     "text": [
      "['스테이크', '초밥', '김치', '치킨', '피자']\n"
     ]
    }
   ],
   "execution_count": 36
  },
  {
   "metadata": {
    "ExecuteTime": {
     "end_time": "2024-07-17T03:09:04.784310Z",
     "start_time": "2024-07-17T03:09:04.780734Z"
    }
   },
   "cell_type": "code",
   "source": [
    "todayDinnerMenu.append(\"감자탕\")\n",
    "print(todayDinnerMenu)"
   ],
   "id": "f8eb2d8d3097217a",
   "outputs": [
    {
     "name": "stdout",
     "output_type": "stream",
     "text": [
      "['스테이크', '초밥', '김치', '치킨', '피자', '감자탕']\n"
     ]
    }
   ],
   "execution_count": 37
  },
  {
   "metadata": {
    "ExecuteTime": {
     "end_time": "2024-07-17T03:09:54.460340Z",
     "start_time": "2024-07-17T03:09:54.456545Z"
    }
   },
   "cell_type": "code",
   "source": [
    "dinnerMenu = [\"스시\",\"스지\",\"오리\"]\n",
    "todayDinnerMenu.extend(dinnerMenu)\n",
    "print(todayDinnerMenu)"
   ],
   "id": "d061d130762165c2",
   "outputs": [
    {
     "name": "stdout",
     "output_type": "stream",
     "text": [
      "['스테이크', '초밥', '김치', '치킨', '피자', '감자탕', '스시', '스지', '오리']\n"
     ]
    }
   ],
   "execution_count": 38
  },
  {
   "metadata": {
    "ExecuteTime": {
     "end_time": "2024-07-17T03:11:11.838087Z",
     "start_time": "2024-07-17T03:11:11.834924Z"
    }
   },
   "cell_type": "code",
   "source": [
    "todayDinnerMenu.remove(\"김치\")\n",
    "print(todayDinnerMenu)"
   ],
   "id": "ddd0ae03a3c22b7d",
   "outputs": [
    {
     "name": "stdout",
     "output_type": "stream",
     "text": [
      "['스테이크', '초밥', '치킨', '피자', '감자탕', '스시', '스지', '오리']\n"
     ]
    }
   ],
   "execution_count": 39
  },
  {
   "metadata": {
    "ExecuteTime": {
     "end_time": "2024-07-17T03:11:28.814032Z",
     "start_time": "2024-07-17T03:11:28.809960Z"
    }
   },
   "cell_type": "code",
   "source": [
    "del todayDinnerMenu[-2]\n",
    "print(todayDinnerMenu)"
   ],
   "id": "1a69e8baa8d4a9c1",
   "outputs": [
    {
     "name": "stdout",
     "output_type": "stream",
     "text": [
      "['스테이크', '초밥', '치킨', '피자', '감자탕', '스시', '오리']\n"
     ]
    }
   ],
   "execution_count": 40
  },
  {
   "metadata": {
    "ExecuteTime": {
     "end_time": "2024-07-17T03:13:09.322160Z",
     "start_time": "2024-07-17T03:13:09.318457Z"
    }
   },
   "cell_type": "code",
   "source": [
    "todayDinnerMenu.insert(1,todayMenuList)\n",
    "print(todayDinnerMenu)"
   ],
   "id": "49149ef98e201ff4",
   "outputs": [
    {
     "name": "stdout",
     "output_type": "stream",
     "text": [
      "['스테이크', ['돈까스', ['초밥', '스테이크', '피자'], '모밀', '도시락', '참깨라면', '제육볶음', '국수', '된장찌개', '국밥', '라면', '서브웨이', '치킨2', '치킨3'], 'lunchMenu', '초밥', '치킨', '피자', '감자탕', '스시', '오리']\n"
     ]
    }
   ],
   "execution_count": 44
  },
  {
   "metadata": {
    "ExecuteTime": {
     "end_time": "2024-07-17T03:14:03.186926Z",
     "start_time": "2024-07-17T03:14:03.183349Z"
    }
   },
   "cell_type": "code",
   "source": [
    "todayDinnerMenu[0]=\"스지\"\n",
    "print(todayDinnerMenu)"
   ],
   "id": "e17dfbee9e22c215",
   "outputs": [
    {
     "name": "stdout",
     "output_type": "stream",
     "text": [
      "['스지', ['돈까스', ['초밥', '스테이크', '피자'], '모밀', '도시락', '참깨라면', '제육볶음', '국수', '된장찌개', '국밥', '라면', '서브웨이', '치킨2', '치킨3'], 'lunchMenu', '초밥', '치킨', '피자', '감자탕', '스시', '오리']\n"
     ]
    }
   ],
   "execution_count": 45
  },
  {
   "metadata": {
    "ExecuteTime": {
     "end_time": "2024-07-17T03:17:34.168988Z",
     "start_time": "2024-07-17T03:17:34.162232Z"
    }
   },
   "cell_type": "code",
   "source": "todayDinnerMenu[:]",
   "id": "8acec72cc9433c99",
   "outputs": [
    {
     "data": {
      "text/plain": [
       "['스지',\n",
       " ['돈까스',\n",
       "  ['초밥', '스테이크', '피자'],\n",
       "  '모밀',\n",
       "  '도시락',\n",
       "  '참깨라면',\n",
       "  '제육볶음',\n",
       "  '국수',\n",
       "  '된장찌개',\n",
       "  '국밥',\n",
       "  '라면',\n",
       "  '서브웨이',\n",
       "  '치킨2',\n",
       "  '치킨3'],\n",
       " 'lunchMenu',\n",
       " '초밥',\n",
       " '치킨',\n",
       " '피자',\n",
       " '감자탕',\n",
       " '스시',\n",
       " '오리']"
      ]
     },
     "execution_count": 46,
     "metadata": {},
     "output_type": "execute_result"
    }
   ],
   "execution_count": 46
  },
  {
   "metadata": {
    "ExecuteTime": {
     "end_time": "2024-07-17T03:19:08.167344Z",
     "start_time": "2024-07-17T03:19:08.164080Z"
    }
   },
   "cell_type": "code",
   "source": "print(todayDinnerMenu[::-1])",
   "id": "64ead096bfe06df1",
   "outputs": [
    {
     "name": "stdout",
     "output_type": "stream",
     "text": [
      "['오리', '스시', '감자탕', '피자', '치킨', '초밥', 'lunchMenu', ['돈까스', ['초밥', '스테이크', '피자'], '모밀', '도시락', '참깨라면', '제육볶음', '국수', '된장찌개', '국밥', '라면', '서브웨이', '치킨2', '치킨3'], '스지']\n"
     ]
    }
   ],
   "execution_count": 49
  },
  {
   "metadata": {
    "ExecuteTime": {
     "end_time": "2024-07-17T05:19:58.194727Z",
     "start_time": "2024-07-17T05:19:58.190770Z"
    }
   },
   "cell_type": "code",
   "source": [
    "for i in range(10,1,-1):\n",
    "    print(i)"
   ],
   "id": "c685740bbba73d5b",
   "outputs": [
    {
     "name": "stdout",
     "output_type": "stream",
     "text": [
      "10\n",
      "9\n",
      "8\n",
      "7\n",
      "6\n",
      "5\n",
      "4\n",
      "3\n",
      "2\n"
     ]
    }
   ],
   "execution_count": 53
  },
  {
   "metadata": {
    "ExecuteTime": {
     "end_time": "2024-07-17T06:13:45.413256Z",
     "start_time": "2024-07-17T06:13:45.409649Z"
    }
   },
   "cell_type": "code",
   "source": [
    "decimal = 10\n",
    "result =''\n",
    "while decimal>0:\n",
    "    remainder = decimal%2\n",
    "    decimal = decimal//2\n",
    "    result = str(remainder)+result\n",
    "print(result)"
   ],
   "id": "d1c6f728cb47c719",
   "outputs": [
    {
     "name": "stdout",
     "output_type": "stream",
     "text": [
      "1010\n"
     ]
    }
   ],
   "execution_count": 60
  },
  {
   "metadata": {},
   "cell_type": "code",
   "outputs": [],
   "execution_count": null,
   "source": "",
   "id": "709bd72937703bbb"
  }
 ],
 "metadata": {
  "kernelspec": {
   "display_name": "Python 3",
   "language": "python",
   "name": "python3"
  },
  "language_info": {
   "codemirror_mode": {
    "name": "ipython",
    "version": 2
   },
   "file_extension": ".py",
   "mimetype": "text/x-python",
   "name": "python",
   "nbconvert_exporter": "python",
   "pygments_lexer": "ipython2",
   "version": "2.7.6"
  }
 },
 "nbformat": 4,
 "nbformat_minor": 5
}
