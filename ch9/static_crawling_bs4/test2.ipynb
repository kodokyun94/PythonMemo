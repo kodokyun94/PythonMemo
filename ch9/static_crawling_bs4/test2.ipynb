{
 "cells": [
  {
   "cell_type": "code",
   "id": "initial_id",
   "metadata": {
    "collapsed": true,
    "ExecuteTime": {
     "end_time": "2024-07-19T01:10:49.039593Z",
     "start_time": "2024-07-19T01:10:49.032996Z"
    }
   },
   "source": [
    "import bs4\n",
    "\n",
    "webPage=open(\"C:/Users/it/PycharmProjects/pythonProject122/ch9/static_crawling_bs4/Sample02.html\",\"rt\",encoding=\"utf-8\").read()\n",
    "bsObject = bs4.BeautifulSoup(webPage,\"html.parser\")\n",
    "\n",
    "tag_div = bsObject.find(\"div\")\n",
    "print(tag_div)\n",
    "\n",
    "tag_ul = bsObject.find(\"ul\")\n",
    "print(tag_ul)\n",
    "\n",
    "tag_li = bsObject.find(\"li\")\n",
    "print(tag_li)\n",
    "\n",
    "tag_lis = bsObject.findAll(\"li\")\n",
    "print(tag_lis)"
   ],
   "outputs": [
    {
     "name": "stdout",
     "output_type": "stream",
     "text": [
      "<div> 요기를 클릭하세요 </div>\n",
      "<ul>\n",
      "<li> 한빛출판네트워크 </li>\n",
      "<li> 비기너 </li>\n",
      "<li> 데이터 분석 </li>\n",
      "</ul>\n",
      "<li> 한빛출판네트워크 </li>\n",
      "[<li> 한빛출판네트워크 </li>, <li> 비기너 </li>, <li> 데이터 분석 </li>]\n"
     ]
    }
   ],
   "execution_count": 4
  },
  {
   "metadata": {},
   "cell_type": "code",
   "outputs": [],
   "execution_count": null,
   "source": "",
   "id": "3705a6b21e92ed27"
  }
 ],
 "metadata": {
  "kernelspec": {
   "display_name": "Python 3",
   "language": "python",
   "name": "python3"
  },
  "language_info": {
   "codemirror_mode": {
    "name": "ipython",
    "version": 2
   },
   "file_extension": ".py",
   "mimetype": "text/x-python",
   "name": "python",
   "nbconvert_exporter": "python",
   "pygments_lexer": "ipython2",
   "version": "2.7.6"
  }
 },
 "nbformat": 4,
 "nbformat_minor": 5
}
