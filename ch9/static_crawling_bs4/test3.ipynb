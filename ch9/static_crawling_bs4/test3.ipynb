{
 "cells": [
  {
   "cell_type": "code",
   "id": "initial_id",
   "metadata": {
    "collapsed": true,
    "ExecuteTime": {
     "end_time": "2024-07-19T02:03:09.518930Z",
     "start_time": "2024-07-19T02:03:09.409547Z"
    }
   },
   "source": [
    "# <div id=\"NateBi\" class=\"area_bi\" role=\"banner\">\n",
    "#     <h1 title=\"네이트\" class=\"bi\">\n",
    "#     <a href=\"//www.nate.com/?f=bi\" onmousedown=\"nc('NBI01');\">네이트</a>\n",
    "#     </h1>\n",
    "# </div>\n",
    "\n",
    "#nate-div id-NateBi-a태그의 href속성에 접근\n",
    "import bs4\n",
    "import urllib.request\n",
    "\n",
    "nateUrl = 'https://www.nate.com//'\n",
    "#해당 웹사이트의 모든 html 태그 읽기\n",
    "htmlObject = urllib.request.urlopen(nateUrl)\n",
    "#정리된 태그들의 트리\n",
    "bsObject=bs4.BeautifulSoup(htmlObject, 'html.parser')\n",
    "\n",
    "tag_div_id = bsObject.find('div', {\"id\" : \"NateBi\"})\n",
    "print(tag_div_id)\n",
    "\n",
    "tag_div_id_a = tag_div_id.find(\"a\") \n",
    "print(tag_div_id_a)\n",
    "\n",
    "tag_div_id_a_href = tag_div_id_a[\"href\"]\n",
    "print(tag_div_id_a_href)"
   ],
   "outputs": [
    {
     "name": "stdout",
     "output_type": "stream",
     "text": [
      "<div class=\"area_bi\" id=\"NateBi\" role=\"banner\">\n",
      "<h1 class=\"bi\" title=\"네이트\"><a href=\"//www.nate.com/?f=bi\" onmousedown=\"nc('NBI01');\">네이트</a></h1>\n",
      "</div>\n",
      "<a href=\"//www.nate.com/?f=bi\" onmousedown=\"nc('NBI01');\">네이트</a>\n",
      "//www.nate.com/?f=bi\n"
     ]
    }
   ],
   "execution_count": 9
  },
  {
   "metadata": {
    "ExecuteTime": {
     "end_time": "2024-07-19T02:16:21.381646Z",
     "start_time": "2024-07-19T02:16:21.319187Z"
    }
   },
   "cell_type": "code",
   "source": [
    "# <div class=\"navWrap\">\n",
    "# \t<div class=\"snbArea\" role=\"navigation\">\n",
    "# \t\t<ul>\n",
    "# \t\t\t<!-- 현제 페이지에 해당하는 경우 current=\"page\" 추가 -->\n",
    "# \t\t\t<li class=\"on\"><h1><a onclick=\"ndrclick('SNB01');\" href=\"//news.nate.com/\" aria-current=\"page\">오늘</a></h1></li> \n",
    "# \t\t\t<li ><a onclick=\"ndrclick('SNB02');\" href=\"//news.nate.com/total\" >종합</a></li> \n",
    "# \t\t\t<li ><a onclick=\"ndrclick('RIG01');\" href=\"//news.nate.com/recent?mid=n0100\" >최신뉴스</a></li> \n",
    "# \t\t\t<li ><a onclick=\"ndrclick('RIG12');\" href=\"//news.nate.com/section?mid=n0200\" >정치</a></li> \n",
    "# \t\t\t<li ><a onclick=\"ndrclick('RIG22');\" href=\"//news.nate.com/section?mid=n0300\" >경제</a></li> \n",
    "# \t\t\t<li ><a onclick=\"ndrclick('RIG33');\" href=\"//news.nate.com/section?mid=n0400\" >사회</a></li> \n",
    "# \t\t\t<li ><a onclick=\"ndrclick('RIG47');\" href=\"//news.nate.com/section?mid=n0500\" >세계</a></li> \n",
    "# \t\t\t<li ><a onclick=\"ndrclick('RIG57');\" href=\"//news.nate.com/section?mid=n0600\" >IT/과학</a></li> \n",
    "# \t\t\t<li ><a onclick=\"ndrclick('RIG67');\" href=\"//news.nate.com/column\" >칼럼</a></li> \n",
    "# \t\t\t<li ><a onclick=\"ndrclick('RIG74');\" href=\"//news.nate.com/photo\" >포토</a></li> \n",
    "# \t\t\t<li ><a onclick=\"ndrclick('RIG85');\" href=\"//news.nate.com/tv?mid=n0900\" >TV</a></li> \n",
    "# \t\t\t<li ><a onclick=\"ndrclick('RIR00');\" href=\"//news.nate.com/radio/list\" >라디오</a></li> \n",
    "# \t\t\t<li ><a onclick=\"ndrclick('RIR00');\" href=\"//news.nate.com/rank/?mid=n1000\" >랭킹뉴스</a></li> \n",
    "# \t\t\t<li ><a onclick=\"ndrclick('RIR08');\" href=\"//news.nate.com/comment?mid=n1500\" >투데이댓글</a></li> \n",
    "# \t\t</ul>\n",
    "\n",
    "#nate-div id-NateBi-a태그의 href속성에 접근\n",
    "import bs4\n",
    "import urllib.request\n",
    "\n",
    "nateUrl = 'https://news.nate.com/'\n",
    "#해당 웹사이트의 모든 html 태그 읽기\n",
    "htmlObject = urllib.request.urlopen(nateUrl)\n",
    "#정리된 태그들의 트리\n",
    "bsObject=bs4.BeautifulSoup(htmlObject, 'html.parser')\n",
    "\n",
    "tag_div_class_snbArea=bsObject.find(\"div\", {\"class\" : \"snbArea\"})\n",
    "print(tag_div_class_snbArea)\n",
    "\n",
    "tag_div_class_snbArea_li = tag_div_class_snbArea.findAll(\"li\")\n",
    "print(tag_div_class_snbArea_li)\n",
    "\n",
    "for li in tag_div_class_snbArea_li:\n",
    "    a_tag=li.find(\"a\")\n",
    "    a_tag_href=a_tag[\"href\"]\n",
    "    print(a_tag_href)"
   ],
   "id": "5cfb9086bd66446d",
   "outputs": [
    {
     "name": "stdout",
     "output_type": "stream",
     "text": [
      "<div class=\"snbArea\" role=\"navigation\">\n",
      "<ul>\n",
      "<!-- 현제 페이지에 해당하는 경우 current=\"page\" 추가 -->\n",
      "<li class=\"on\"><h1><a aria-current=\"page\" href=\"//news.nate.com/\" onclick=\"ndrclick('SNB01');\">오늘</a></h1></li>\n",
      "<li><a href=\"//news.nate.com/total\" onclick=\"ndrclick('SNB02');\">종합</a></li>\n",
      "<li><a href=\"//news.nate.com/recent?mid=n0100\" onclick=\"ndrclick('RIG01');\">최신뉴스</a></li>\n",
      "<li><a href=\"//news.nate.com/section?mid=n0200\" onclick=\"ndrclick('RIG12');\">정치</a></li>\n",
      "<li><a href=\"//news.nate.com/section?mid=n0300\" onclick=\"ndrclick('RIG22');\">경제</a></li>\n",
      "<li><a href=\"//news.nate.com/section?mid=n0400\" onclick=\"ndrclick('RIG33');\">사회</a></li>\n",
      "<li><a href=\"//news.nate.com/section?mid=n0500\" onclick=\"ndrclick('RIG47');\">세계</a></li>\n",
      "<li><a href=\"//news.nate.com/section?mid=n0600\" onclick=\"ndrclick('RIG57');\">IT/과학</a></li>\n",
      "<li><a href=\"//news.nate.com/column\" onclick=\"ndrclick('RIG67');\">칼럼</a></li>\n",
      "<li><a href=\"//news.nate.com/photo\" onclick=\"ndrclick('RIG74');\">포토</a></li>\n",
      "<li><a href=\"//news.nate.com/tv?mid=n0900\" onclick=\"ndrclick('RIG85');\">TV</a></li>\n",
      "<li><a href=\"//news.nate.com/radio/list\" onclick=\"ndrclick('RIR00');\">라디오</a></li>\n",
      "<li><a href=\"//news.nate.com/rank/?mid=n1000\" onclick=\"ndrclick('RIR00');\">랭킹뉴스</a></li>\n",
      "<li><a href=\"//news.nate.com/comment?mid=n1500\" onclick=\"ndrclick('RIR08');\">투데이댓글</a></li>\n",
      "</ul>\n",
      "<!-- SNB 배너 -->\n",
      "<div class=\"svcLink\">\n",
      "</div>\n",
      "<!-- //SNB 배너 -->\n",
      "</div>\n",
      "[<li class=\"on\"><h1><a aria-current=\"page\" href=\"//news.nate.com/\" onclick=\"ndrclick('SNB01');\">오늘</a></h1></li>, <li><a href=\"//news.nate.com/total\" onclick=\"ndrclick('SNB02');\">종합</a></li>, <li><a href=\"//news.nate.com/recent?mid=n0100\" onclick=\"ndrclick('RIG01');\">최신뉴스</a></li>, <li><a href=\"//news.nate.com/section?mid=n0200\" onclick=\"ndrclick('RIG12');\">정치</a></li>, <li><a href=\"//news.nate.com/section?mid=n0300\" onclick=\"ndrclick('RIG22');\">경제</a></li>, <li><a href=\"//news.nate.com/section?mid=n0400\" onclick=\"ndrclick('RIG33');\">사회</a></li>, <li><a href=\"//news.nate.com/section?mid=n0500\" onclick=\"ndrclick('RIG47');\">세계</a></li>, <li><a href=\"//news.nate.com/section?mid=n0600\" onclick=\"ndrclick('RIG57');\">IT/과학</a></li>, <li><a href=\"//news.nate.com/column\" onclick=\"ndrclick('RIG67');\">칼럼</a></li>, <li><a href=\"//news.nate.com/photo\" onclick=\"ndrclick('RIG74');\">포토</a></li>, <li><a href=\"//news.nate.com/tv?mid=n0900\" onclick=\"ndrclick('RIG85');\">TV</a></li>, <li><a href=\"//news.nate.com/radio/list\" onclick=\"ndrclick('RIR00');\">라디오</a></li>, <li><a href=\"//news.nate.com/rank/?mid=n1000\" onclick=\"ndrclick('RIR00');\">랭킹뉴스</a></li>, <li><a href=\"//news.nate.com/comment?mid=n1500\" onclick=\"ndrclick('RIR08');\">투데이댓글</a></li>]\n",
      "//news.nate.com/\n",
      "//news.nate.com/total\n",
      "//news.nate.com/recent?mid=n0100\n",
      "//news.nate.com/section?mid=n0200\n",
      "//news.nate.com/section?mid=n0300\n",
      "//news.nate.com/section?mid=n0400\n",
      "//news.nate.com/section?mid=n0500\n",
      "//news.nate.com/section?mid=n0600\n",
      "//news.nate.com/column\n",
      "//news.nate.com/photo\n",
      "//news.nate.com/tv?mid=n0900\n",
      "//news.nate.com/radio/list\n",
      "//news.nate.com/rank/?mid=n1000\n",
      "//news.nate.com/comment?mid=n1500\n"
     ]
    }
   ],
   "execution_count": 14
  },
  {
   "metadata": {},
   "cell_type": "code",
   "outputs": [],
   "execution_count": null,
   "source": "",
   "id": "2f82d95b5ef60a46"
  }
 ],
 "metadata": {
  "kernelspec": {
   "display_name": "Python 3",
   "language": "python",
   "name": "python3"
  },
  "language_info": {
   "codemirror_mode": {
    "name": "ipython",
    "version": 2
   },
   "file_extension": ".py",
   "mimetype": "text/x-python",
   "name": "python",
   "nbconvert_exporter": "python",
   "pygments_lexer": "ipython2",
   "version": "2.7.6"
  }
 },
 "nbformat": 4,
 "nbformat_minor": 5
}
