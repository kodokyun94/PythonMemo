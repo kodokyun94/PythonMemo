{
 "cells": [
  {
   "cell_type": "code",
   "id": "initial_id",
   "metadata": {
    "collapsed": true,
    "ExecuteTime": {
     "end_time": "2024-07-19T02:28:29.874057Z",
     "start_time": "2024-07-19T02:28:19.851217Z"
    }
   },
   "source": [
    "import csv\n",
    "import time\n",
    "import datetime\n",
    "\n",
    "csvName = \"C:/Users/it/PycharmProjects/pythonProject122/ch9/static_crawling_bs4/SampleCsv_datetime_240719.csv\"\n",
    "\n",
    "with open(csvName,\"w\",newline=\"\",encoding=\"UTF-8\") as csvfile:\n",
    "    csvwriter = csv.writer(csvfile)\n",
    "    \n",
    "    #행에 정보 넣기\n",
    "    csvwriter.writerow(['연월일','시분초'])\n",
    "#상태 변수, 전체 반복 횟수 체크    \n",
    "count = 10    \n",
    "while count > 0:\n",
    "    count = count - 1\n",
    "    #날짜 및 시간 정보 가져오기\n",
    "    now=datetime.datetime.now()\n",
    "    yymmdd = now.strftime(\"%Y%m%d\")\n",
    "    hhmmss = now.strftime(\"%H%M%S\")\n",
    "    time_list = [yymmdd,hhmmss]\n",
    "    print(time_list)\n",
    "    \n",
    "    #위의 날짜,시간 정보 csv파일에 쓰기 작업\n",
    "    with open(csvName,\"a\",newline=\"\",encoding=\"UTF-8\") as csvfile:\n",
    "        csvwriter = csv.writer(csvfile)\n",
    "        csvwriter.writerow(time_list)\n",
    "        \n",
    "    time.sleep(1)    "
   ],
   "outputs": [
    {
     "name": "stdout",
     "output_type": "stream",
     "text": [
      "['20240719', '112819']\n",
      "['20240719', '112820']\n",
      "['20240719', '112821']\n",
      "['20240719', '112822']\n",
      "['20240719', '112823']\n",
      "['20240719', '112824']\n",
      "['20240719', '112825']\n",
      "['20240719', '112826']\n",
      "['20240719', '112827']\n",
      "['20240719', '112828']\n"
     ]
    }
   ],
   "execution_count": 4
  },
  {
   "metadata": {
    "ExecuteTime": {
     "end_time": "2024-07-19T03:34:04.272285Z",
     "start_time": "2024-07-19T03:34:03.096681Z"
    }
   },
   "cell_type": "code",
   "source": [
    "#네이트 뉴스에 날씨에서 경상남도 부산의 날씨정보 가져와서 csv파일에 쓰기 작업\n",
    "#준비물 1\n",
    "# https://news.nate.com/weather?areaCode=11H20201\n",
    "\n",
    "#준비물 2 경로\n",
    "# C:/Users/it/PycharmProjects/pythonProject122/ch9/static_crawling_bs4/news_weather_datetime_240719.csv\n",
    "\n",
    "#준비물 3 정보들의 태그정보(온도 습도 강수량 풍향)\n",
    "# <div class=\"right_today\">\n",
    "# \t\t\t\t\t\t\t<div class=\"temperature\">\n",
    "# \t\t\t\t\t온도\t\t<p class=\"celsius\">27<span class=\"hide\">℃</span></p><!-- minus일경우 클래스 추가 -->\n",
    "# \t\t\t\t\t\t\t\t<p class=\"min_max\">\n",
    "# \t\t\t\t\t\t\t\t\t<span class=\"maximum\">최고 27℃</span>\n",
    "# \t\t\t\t\t\t\t\t\t<span class=\"minimum\">최저 23℃</span>\n",
    "# \t\t\t\t\t\t\t\t</p>\n",
    "# \t\t\t\t\t\t\t</div>\n",
    "# \t\t\t\t\t\t\t<p class=\"comparison\">\n",
    "# \t\t\t\t\t\t\t<span >\n",
    "# \t\t\t\t\t\t\t\t<em class=\"hide\">어제보다</em></span><!-- 어제와같음클래스:same, 기본:클래스없음 -->\n",
    "# \t\t\t\t\t\t\t\t<em class=\"plus\">+1℃</em><!-- 클래스없음 기본 plus 노란색 --></p>\n",
    "# \t\t\t\t\t\t\t<div class=\"hrw_area\"><!-- lv1: 0~34%, lv2:35~70%, lv3:80~100% -->\n",
    "# \t\t\t\t\t습도\t\t\t<p class=\"humidity\"><span><span class=\"hide\">습도</span></span><em>78%</em></p>\n",
    "# \t\t\t\t\t강수량\t\t\t<p class=\"rainfall\"><span><span class=\"hide\">강수량</span></span><em>4.0mm</em></p>\t\t\t\t\t\t\t\t\t\t\t풍향\t\t<p class=\"wind\"><span><span class=\"hide\">풍향</span></span><em> 남서 4.5 m/s</em></p>\n",
    "# \t\t\t\t\t\t\t</div>\n",
    "# \t\t\t\t\t\t</div>\n",
    "\n",
    "import csv\n",
    "import time\n",
    "import datetime\n",
    "import bs4\n",
    "import urllib.request\n",
    "\n",
    "csvName = \"C:/Users/it/PycharmProjects/pythonProject122/ch9/static_crawling_bs4/news_weather_datetime_240719_2.csv\"\n",
    "\n",
    "with open(csvName,\"w\",newline=\"\",encoding=\"UTF-8\") as csvfile:\n",
    "    csvwriter = csv.writer(csvfile)\n",
    "    #행에 정보 넣기\n",
    "    csvwriter.writerow(['연월일','시분초','온도','습도','강수량','풍향'])\n",
    "\n",
    "#날씨 정보 가져오기\n",
    "news_weather_nate_url = \"https://news.nate.com/weather?areaCode=11H20201\"\n",
    "web_page = urllib.request.urlopen(news_weather_nate_url)\n",
    "bsObject = bs4.BeautifulSoup(web_page,\"html.parser\")\n",
    "\n",
    "count=10\n",
    "\n",
    "while count > 0:\n",
    "    count -= 1\n",
    "\t\n",
    "tag_right_today = bsObject.find('div',{'class':'right_today'})\n",
    "\n",
    "celsius = tag_right_today.find('p',{'class':\"celsius\"}).text\n",
    "\t\n",
    "humidity_tag = tag_right_today.find('p',{'class':\"humidity\"})\n",
    "humidity_tag_em = humidity_tag.find('em').text\n",
    "\t\n",
    "rainfall_tag = tag_right_today.find('p',{'class':\"rainfall\"})\n",
    "rainfall_tag_em = rainfall_tag.find('em').text\n",
    "\t\n",
    "wind_tag = tag_right_today.find('p',{'class':\"wind\"})\n",
    "wind_tag_em = wind_tag.find('em').text\n",
    "wind_tag_em_strip=wind_tag_em.strip()\n",
    "# print(celsius)\n",
    "# print(humidity_tag_em)\n",
    "# print(rainfall_tag_em)\n",
    "# print(wind_tag_em_strip)\n",
    " #날짜 및 시간 정보 가져오기\n",
    "now=datetime.datetime.now()\n",
    "yymmdd = now.strftime(\"%Y-%m-%d\")\n",
    "hhmmss = now.strftime(\"%H-%M-%S\")\n",
    "\n",
    "#위의 날짜,시간 정보 csv파일에 쓰기 작업\n",
    "weather_list = [yymmdd,hhmmss,celsius,humidity_tag_em,rainfall_tag_em,wind_tag_em_strip]\n",
    "with open(csvName,\"a\",newline=\"\",encoding=\"UTF-8\") as csvfile:\n",
    "    csvwriter = csv.writer(csvfile)\n",
    "    csvwriter.writerow(weather_list)\n",
    "    \n",
    "time.sleep(1)\n",
    "print(\"save ok\")"
   ],
   "id": "7fda7af84c14e069",
   "outputs": [
    {
     "name": "stdout",
     "output_type": "stream",
     "text": [
      "save ok\n"
     ]
    }
   ],
   "execution_count": 16
  }
 ],
 "metadata": {
  "kernelspec": {
   "display_name": "Python 3",
   "language": "python",
   "name": "python3"
  },
  "language_info": {
   "codemirror_mode": {
    "name": "ipython",
    "version": 2
   },
   "file_extension": ".py",
   "mimetype": "text/x-python",
   "name": "python",
   "nbconvert_exporter": "python",
   "pygments_lexer": "ipython2",
   "version": "2.7.6"
  }
 },
 "nbformat": 4,
 "nbformat_minor": 5
}
