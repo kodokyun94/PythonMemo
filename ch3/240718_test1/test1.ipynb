{
 "cells": [
  {
   "cell_type": "code",
   "id": "initial_id",
   "metadata": {
    "collapsed": true,
    "ExecuteTime": {
     "end_time": "2024-07-18T00:42:41.420752Z",
     "start_time": "2024-07-18T00:42:41.416647Z"
    }
   },
   "source": [
    "sampleStr = \"   Test 오늘 점심 뭐 먹지?, 비가 오나요 menu : Korean Food   \"\n",
    "print(f\"len(sampleStr) = {len(sampleStr)}\")"
   ],
   "outputs": [
    {
     "name": "stdout",
     "output_type": "stream",
     "text": [
      "len(sampleStr) = 49\n"
     ]
    }
   ],
   "execution_count": 59
  },
  {
   "metadata": {
    "ExecuteTime": {
     "end_time": "2024-07-18T00:42:41.431308Z",
     "start_time": "2024-07-18T00:42:41.427737Z"
    }
   },
   "cell_type": "code",
   "source": "print(sampleStr.upper())",
   "id": "8648528be14b8518",
   "outputs": [
    {
     "name": "stdout",
     "output_type": "stream",
     "text": [
      "   TEST 오늘 점심 뭐 먹지?, 비가 오나요 MENU : KOREAN FOOD   \n"
     ]
    }
   ],
   "execution_count": 60
  },
  {
   "metadata": {
    "ExecuteTime": {
     "end_time": "2024-07-18T00:42:41.437486Z",
     "start_time": "2024-07-18T00:42:41.432309Z"
    }
   },
   "cell_type": "code",
   "source": "print(sampleStr.lower())",
   "id": "38338943f837d0cf",
   "outputs": [
    {
     "name": "stdout",
     "output_type": "stream",
     "text": [
      "   test 오늘 점심 뭐 먹지?, 비가 오나요 menu : korean food   \n"
     ]
    }
   ],
   "execution_count": 61
  },
  {
   "metadata": {
    "ExecuteTime": {
     "end_time": "2024-07-18T00:42:41.442840Z",
     "start_time": "2024-07-18T00:42:41.438486Z"
    }
   },
   "cell_type": "code",
   "source": "print(sampleStr.title())",
   "id": "6d8bb8f978cda0be",
   "outputs": [
    {
     "name": "stdout",
     "output_type": "stream",
     "text": [
      "   Test 오늘 점심 뭐 먹지?, 비가 오나요 Menu : Korean Food   \n"
     ]
    }
   ],
   "execution_count": 62
  },
  {
   "metadata": {
    "ExecuteTime": {
     "end_time": "2024-07-18T00:42:41.448059Z",
     "start_time": "2024-07-18T00:42:41.443842Z"
    }
   },
   "cell_type": "code",
   "source": "print(sampleStr.capitalize())",
   "id": "7158c80040d036be",
   "outputs": [
    {
     "name": "stdout",
     "output_type": "stream",
     "text": [
      "   test 오늘 점심 뭐 먹지?, 비가 오나요 menu : korean food   \n"
     ]
    }
   ],
   "execution_count": 63
  },
  {
   "metadata": {
    "ExecuteTime": {
     "end_time": "2024-07-18T00:42:41.475600Z",
     "start_time": "2024-07-18T00:42:41.472995Z"
    }
   },
   "cell_type": "code",
   "source": "print(sampleStr.count(\"e\"))",
   "id": "f520cdc75b56d51",
   "outputs": [
    {
     "name": "stdout",
     "output_type": "stream",
     "text": [
      "3\n"
     ]
    }
   ],
   "execution_count": 64
  },
  {
   "metadata": {
    "ExecuteTime": {
     "end_time": "2024-07-18T00:42:41.488186Z",
     "start_time": "2024-07-18T00:42:41.485576Z"
    }
   },
   "cell_type": "code",
   "source": "print(sampleStr.find(\"오\"))",
   "id": "3da59e0b7dcf3753",
   "outputs": [
    {
     "name": "stdout",
     "output_type": "stream",
     "text": [
      "8\n"
     ]
    }
   ],
   "execution_count": 65
  },
  {
   "metadata": {
    "ExecuteTime": {
     "end_time": "2024-07-18T00:42:41.493388Z",
     "start_time": "2024-07-18T00:42:41.490183Z"
    }
   },
   "cell_type": "code",
   "source": "print(sampleStr.rfind(\"오\"))",
   "id": "88f707ac660a227b",
   "outputs": [
    {
     "name": "stdout",
     "output_type": "stream",
     "text": [
      "24\n"
     ]
    }
   ],
   "execution_count": 66
  },
  {
   "metadata": {
    "ExecuteTime": {
     "end_time": "2024-07-18T00:42:41.500762Z",
     "start_time": "2024-07-18T00:42:41.498378Z"
    }
   },
   "cell_type": "code",
   "source": "print(sampleStr.startswith(\"t\"))",
   "id": "1561e7be5d85b08",
   "outputs": [
    {
     "name": "stdout",
     "output_type": "stream",
     "text": [
      "False\n"
     ]
    }
   ],
   "execution_count": 67
  },
  {
   "metadata": {
    "ExecuteTime": {
     "end_time": "2024-07-18T00:42:41.506905Z",
     "start_time": "2024-07-18T00:42:41.503758Z"
    }
   },
   "cell_type": "code",
   "source": "print(sampleStr.endswith(\"Food\"))",
   "id": "e2d158a6f79070b2",
   "outputs": [
    {
     "name": "stdout",
     "output_type": "stream",
     "text": [
      "False\n"
     ]
    }
   ],
   "execution_count": 68
  },
  {
   "metadata": {
    "ExecuteTime": {
     "end_time": "2024-07-18T00:42:41.537891Z",
     "start_time": "2024-07-18T00:42:41.533836Z"
    }
   },
   "cell_type": "code",
   "source": "print(sampleStr.strip())",
   "id": "e68a4d29735b3959",
   "outputs": [
    {
     "name": "stdout",
     "output_type": "stream",
     "text": [
      "Test 오늘 점심 뭐 먹지?, 비가 오나요 menu : Korean Food\n"
     ]
    }
   ],
   "execution_count": 69
  },
  {
   "metadata": {
    "ExecuteTime": {
     "end_time": "2024-07-18T00:44:02.919488Z",
     "start_time": "2024-07-18T00:44:02.915904Z"
    }
   },
   "cell_type": "code",
   "source": "print(sampleStr.rsplit())",
   "id": "84b1466304273c10",
   "outputs": [
    {
     "name": "stdout",
     "output_type": "stream",
     "text": [
      "['Test', '오늘', '점심', '뭐', '먹지?,', '비가', '오나요', 'menu', ':', 'Korean', 'Food']\n"
     ]
    }
   ],
   "execution_count": 70
  },
  {
   "metadata": {
    "ExecuteTime": {
     "end_time": "2024-07-18T00:44:32.229160Z",
     "start_time": "2024-07-18T00:44:32.225547Z"
    }
   },
   "cell_type": "code",
   "source": "print(sampleStr.lstrip())",
   "id": "8d87712321d665ed",
   "outputs": [
    {
     "name": "stdout",
     "output_type": "stream",
     "text": [
      "Test 오늘 점심 뭐 먹지?, 비가 오나요 menu : Korean Food   \n"
     ]
    }
   ],
   "execution_count": 71
  },
  {
   "metadata": {
    "ExecuteTime": {
     "end_time": "2024-07-18T00:44:41.121134Z",
     "start_time": "2024-07-18T00:44:41.117095Z"
    }
   },
   "cell_type": "code",
   "source": "print(sampleStr.isdigit())",
   "id": "ec95c6827431bf48",
   "outputs": [
    {
     "name": "stdout",
     "output_type": "stream",
     "text": [
      "False\n"
     ]
    }
   ],
   "execution_count": 72
  },
  {
   "metadata": {
    "ExecuteTime": {
     "end_time": "2024-07-18T00:44:50.745005Z",
     "start_time": "2024-07-18T00:44:50.741133Z"
    }
   },
   "cell_type": "code",
   "source": "print(sampleStr.islower())",
   "id": "2fa1f5fce261f10b",
   "outputs": [
    {
     "name": "stdout",
     "output_type": "stream",
     "text": [
      "False\n"
     ]
    }
   ],
   "execution_count": 73
  },
  {
   "metadata": {
    "ExecuteTime": {
     "end_time": "2024-07-18T00:44:57.230367Z",
     "start_time": "2024-07-18T00:44:57.226308Z"
    }
   },
   "cell_type": "code",
   "source": "print(sampleStr.isupper())",
   "id": "3dbacde8e6a3ef70",
   "outputs": [
    {
     "name": "stdout",
     "output_type": "stream",
     "text": [
      "False\n"
     ]
    }
   ],
   "execution_count": 74
  },
  {
   "metadata": {
    "ExecuteTime": {
     "end_time": "2024-07-18T01:10:49.413321Z",
     "start_time": "2024-07-18T01:10:49.408840Z"
    }
   },
   "cell_type": "code",
   "source": [
    "f = open(\"yesterday.txt\", \"r\")\n",
    "yesterday_lyric = f.readlines()\n",
    "f.close()\n",
    "print(yesterday_lyric)"
   ],
   "id": "bdec4fd9a0f0149d",
   "outputs": [
    {
     "name": "stdout",
     "output_type": "stream",
     "text": [
      "['Yesterday all my troubles seemed so far away\\n', \"Now it looks as though they're here to stay\\n\", 'Oh, I believe in yesterday\\n', \"Suddenly I'm not half the man I used to be\\n\", \"There's a shadow hanging over me\\n\", 'Oh, yesterday came suddenly.\\n', \"Why she had to go I don't know,\\n\", \"she wouldn't say.\\n\", 'I said something wrong\\n', 'now I long for yesterday.\\n', 'Yesterday love was such an easy game to play\\n', 'Now I need a place to hide away\\n', 'Oh, I believe in yesterday\\n', \"Why she had to go I don't know\\n\", \"she wouldn't say\\n\", 'I said something wrong\\n', 'now I long for yesterday\\n', 'Yesterday love was such an easy game to play\\n', 'Now I need a place to hide away\\n', 'Oh, I believe in yesterday']\n"
     ]
    }
   ],
   "execution_count": 75
  },
  {
   "metadata": {
    "ExecuteTime": {
     "end_time": "2024-07-18T01:15:55.893158Z",
     "start_time": "2024-07-18T01:15:55.889633Z"
    }
   },
   "cell_type": "code",
   "source": [
    "#한 문장 씩 요소로 추출\n",
    "contents = \"\"\n",
    "for line in yesterday_lyric:\n",
    "    contents += line.strip() + \"\\n\"\n",
    "    \n",
    "print(f\"contents 하나의 문자열에 변수 모두 넣기 : \\n{contents}\")    "
   ],
   "id": "b940662b26d4512f",
   "outputs": [
    {
     "name": "stdout",
     "output_type": "stream",
     "text": [
      "contents 하나의 문자열에 변수 모두 넣기 : \n",
      "Yesterday all my troubles seemed so far away\n",
      "Now it looks as though they're here to stay\n",
      "Oh, I believe in yesterday\n",
      "Suddenly I'm not half the man I used to be\n",
      "There's a shadow hanging over me\n",
      "Oh, yesterday came suddenly.\n",
      "Why she had to go I don't know,\n",
      "she wouldn't say.\n",
      "I said something wrong\n",
      "now I long for yesterday.\n",
      "Yesterday love was such an easy game to play\n",
      "Now I need a place to hide away\n",
      "Oh, I believe in yesterday\n",
      "Why she had to go I don't know\n",
      "she wouldn't say\n",
      "I said something wrong\n",
      "now I long for yesterday\n",
      "Yesterday love was such an easy game to play\n",
      "Now I need a place to hide away\n",
      "Oh, I believe in yesterday\n",
      "\n"
     ]
    }
   ],
   "execution_count": 76
  },
  {
   "metadata": {
    "ExecuteTime": {
     "end_time": "2024-07-18T01:17:55.460544Z",
     "start_time": "2024-07-18T01:17:55.456320Z"
    }
   },
   "cell_type": "code",
   "source": [
    "numberOfYesterdayLyric = contents.upper().count(\"YESTERDAY\")\n",
    "print(f\"yesterday 갯수 : {numberOfYesterdayLyric}\")"
   ],
   "id": "d12368f7ef9e9968",
   "outputs": [
    {
     "name": "stdout",
     "output_type": "stream",
     "text": [
      "yesterday 갯수 : 9\n"
     ]
    }
   ],
   "execution_count": 78
  },
  {
   "metadata": {
    "ExecuteTime": {
     "end_time": "2024-07-18T01:22:50.464349Z",
     "start_time": "2024-07-18T01:22:50.461227Z"
    }
   },
   "cell_type": "code",
   "source": [
    "#Counter 도구 이용 해서 해당 단어 집계\n",
    "from collections import Counter\n",
    "print(f\"Counter(yesterday_lyric) : \\n{Counter(yesterday_lyric)}\")"
   ],
   "id": "45f2c52134d014e",
   "outputs": [
    {
     "name": "stdout",
     "output_type": "stream",
     "text": [
      "Counter(yesterday_lyric) : \n",
      "Counter({'Oh, I believe in yesterday\\n': 2, 'I said something wrong\\n': 2, 'Yesterday love was such an easy game to play\\n': 2, 'Now I need a place to hide away\\n': 2, 'Yesterday all my troubles seemed so far away\\n': 1, \"Now it looks as though they're here to stay\\n\": 1, \"Suddenly I'm not half the man I used to be\\n\": 1, \"There's a shadow hanging over me\\n\": 1, 'Oh, yesterday came suddenly.\\n': 1, \"Why she had to go I don't know,\\n\": 1, \"she wouldn't say.\\n\": 1, 'now I long for yesterday.\\n': 1, \"Why she had to go I don't know\\n\": 1, \"she wouldn't say\\n\": 1, 'now I long for yesterday\\n': 1, 'Oh, I believe in yesterday': 1})\n"
     ]
    }
   ],
   "execution_count": 80
  },
  {
   "metadata": {},
   "cell_type": "code",
   "outputs": [],
   "execution_count": null,
   "source": "",
   "id": "a94720b618f6bfd7"
  }
 ],
 "metadata": {
  "kernelspec": {
   "display_name": "Python 3",
   "language": "python",
   "name": "python3"
  },
  "language_info": {
   "codemirror_mode": {
    "name": "ipython",
    "version": 2
   },
   "file_extension": ".py",
   "mimetype": "text/x-python",
   "name": "python",
   "nbconvert_exporter": "python",
   "pygments_lexer": "ipython2",
   "version": "2.7.6"
  }
 },
 "nbformat": 4,
 "nbformat_minor": 5
}
