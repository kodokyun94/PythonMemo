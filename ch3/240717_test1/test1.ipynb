{
 "cells": [
  {
   "cell_type": "code",
   "id": "initial_id",
   "metadata": {
    "collapsed": true,
    "ExecuteTime": {
     "end_time": "2024-07-17T06:33:42.895116Z",
     "start_time": "2024-07-17T06:33:42.890041Z"
    }
   },
   "source": [
    "def spam(eggs):\n",
    "    eggs.append(1)\n",
    "    print(f'Spam ham`s id : {id(ham)}')\n",
    "    print(f'Spam eggs`s id1111 : {id(eggs)}')\n",
    "    eggs = [2,3]\n",
    "    print(f'Spam eggs`s id2222 : {id(eggs)}')\n",
    "    \n",
    "ham = [0]\n",
    "print(f'ham의 아이디 111111 : {id(ham)}')\n",
    "spam(ham)\n",
    "print(f'ham의 아이디 2222222 : {id(ham)}')\n",
    "print(ham)"
   ],
   "outputs": [
    {
     "name": "stdout",
     "output_type": "stream",
     "text": [
      "ham의 아이디 111111 : 1945822811008\n",
      "Spam ham`s id : 1945822811008\n",
      "Spam eggs`s id1111 : 1945822811008\n",
      "Spam eggs`s id2222 : 1945822809152\n",
      "ham의 아이디 2222222 : 1945822811008\n",
      "[0, 1]\n"
     ]
    }
   ],
   "execution_count": 5
  },
  {
   "metadata": {
    "ExecuteTime": {
     "end_time": "2024-07-17T06:39:46.468719Z",
     "start_time": "2024-07-17T06:39:46.246359Z"
    }
   },
   "cell_type": "code",
   "source": [
    "def test(t):\n",
    "    print(x)\n",
    "    t=20\n",
    "    print(\"In function : \",t)\n",
    "\n",
    "x=10\n",
    "test(x)\n",
    "print(\"In Main\",x)\n",
    "print(\"In Main\",t)"
   ],
   "id": "1a97658d9b69fd1",
   "outputs": [
    {
     "name": "stdout",
     "output_type": "stream",
     "text": [
      "10\n",
      "In function :  20\n",
      "In Main 10\n"
     ]
    },
    {
     "ename": "NameError",
     "evalue": "name 't' is not defined",
     "output_type": "error",
     "traceback": [
      "\u001B[1;31m---------------------------------------------------------------------------\u001B[0m",
      "\u001B[1;31mNameError\u001B[0m                                 Traceback (most recent call last)",
      "Cell \u001B[1;32mIn[6], line 9\u001B[0m\n\u001B[0;32m      7\u001B[0m test(x)\n\u001B[0;32m      8\u001B[0m \u001B[38;5;28mprint\u001B[39m(\u001B[38;5;124m\"\u001B[39m\u001B[38;5;124mIn Main\u001B[39m\u001B[38;5;124m\"\u001B[39m,x)\n\u001B[1;32m----> 9\u001B[0m \u001B[38;5;28mprint\u001B[39m(\u001B[38;5;124m\"\u001B[39m\u001B[38;5;124mIn Main\u001B[39m\u001B[38;5;124m\"\u001B[39m,\u001B[43mt\u001B[49m)\n",
      "\u001B[1;31mNameError\u001B[0m: name 't' is not defined"
     ]
    }
   ],
   "execution_count": 6
  },
  {
   "metadata": {
    "ExecuteTime": {
     "end_time": "2024-07-17T07:05:26.625280Z",
     "start_time": "2024-07-17T07:05:26.620993Z"
    }
   },
   "cell_type": "code",
   "source": [
    "def f():\n",
    "    global s\n",
    "    s = \"I love London!\"\n",
    "    print(s)\n",
    "    \n",
    "s=\"I love Paris!\"\n",
    "f()\n",
    "print(s)"
   ],
   "id": "59f8cf4ccb87563c",
   "outputs": [
    {
     "name": "stdout",
     "output_type": "stream",
     "text": [
      "I love London!\n",
      "I love London!\n"
     ]
    }
   ],
   "execution_count": 7
  },
  {
   "metadata": {
    "ExecuteTime": {
     "end_time": "2024-07-17T07:16:56.583020Z",
     "start_time": "2024-07-17T07:16:56.579148Z"
    }
   },
   "cell_type": "code",
   "source": [
    "def asterisk_test(a,b,*args):\n",
    "    return a + b + sum(args)\n",
    "print(asterisk_test(1,2,3,4,5,6,7))"
   ],
   "id": "469c00f3fb43be8c",
   "outputs": [
    {
     "name": "stdout",
     "output_type": "stream",
     "text": [
      "28\n"
     ]
    }
   ],
   "execution_count": 9
  },
  {
   "metadata": {
    "ExecuteTime": {
     "end_time": "2024-07-17T07:32:49.252871Z",
     "start_time": "2024-07-17T07:32:49.249193Z"
    }
   },
   "cell_type": "code",
   "source": [
    "def sum123(a,b,*args):\n",
    "    return print(args)\n",
    "print(sum123(1,2,3,4))"
   ],
   "id": "c7d6b21a3a7e21ac",
   "outputs": [
    {
     "name": "stdout",
     "output_type": "stream",
     "text": [
      "(3, 4)\n",
      "None\n"
     ]
    }
   ],
   "execution_count": 2
  },
  {
   "metadata": {},
   "cell_type": "markdown",
   "source": "",
   "id": "df2e66f9f0738a6c"
  },
  {
   "metadata": {
    "ExecuteTime": {
     "end_time": "2024-07-17T07:32:32.862735Z",
     "start_time": "2024-07-17T07:32:32.853492Z"
    }
   },
   "cell_type": "code",
   "source": [
    "def sum2(a,b,*args):\n",
    "    return a + b + sum(args)\n",
    "print(f\"sum2(1,2,3,4,5) = {sum2(1,2,3,4,5)}\")"
   ],
   "id": "486a624a5b13dc88",
   "outputs": [
    {
     "name": "stdout",
     "output_type": "stream",
     "text": [
      "sum2(1,2,3,4,5) = 15\n"
     ]
    }
   ],
   "execution_count": 1
  },
  {
   "metadata": {
    "ExecuteTime": {
     "end_time": "2024-07-17T07:35:44.062365Z",
     "start_time": "2024-07-17T07:35:44.057324Z"
    }
   },
   "cell_type": "code",
   "source": [
    "def testKargs(**args):\n",
    "    print(args)\n",
    "    print(f\"키 값에 해당하는 값 조회 :  {args[\"a\"]}\")\n",
    "    print(f\"키 값에 해당하는 값 조회 :  {args[\"b\"]}\")\n",
    "    print(f\"키 값에 해당하는 값 조회 :  {args[\"c\"]}\")\n",
    "\n",
    "testKargs(a=1,b=2,c=3)"
   ],
   "id": "fe066b6e2268d9a2",
   "outputs": [
    {
     "name": "stdout",
     "output_type": "stream",
     "text": [
      "{'a': 1, 'b': 2, 'c': 3}\n",
      "키 값에 해당하는 값 조회 :  1\n",
      "키 값에 해당하는 값 조회 :  2\n",
      "키 값에 해당하는 값 조회 :  3\n"
     ]
    }
   ],
   "execution_count": 3
  },
  {
   "metadata": {
    "ExecuteTime": {
     "end_time": "2024-07-17T07:39:34.190423Z",
     "start_time": "2024-07-17T07:39:34.185964Z"
    }
   },
   "cell_type": "code",
   "source": [
    "def A(*args):\n",
    "    x,y,*z = args\n",
    "    print(f\"z의 타입 : {type(z)}\")\n",
    "    return x,y,z\n",
    "\n",
    "print(f\"A(1,2)의 결과 : {A(1,2)}\")\n",
    "print(f\"A(1,2)의 결과 : {A(1,2,3)}\")\n",
    "print(f\"A(1,2)의 결과 : {A(1,2,3,4,5)}\")"
   ],
   "id": "9f7b5eadd6251674",
   "outputs": [
    {
     "name": "stdout",
     "output_type": "stream",
     "text": [
      "z의 타입 : <class 'list'>\n",
      "A(1,2)의 결과 : (1, 2, [])\n",
      "z의 타입 : <class 'list'>\n",
      "A(1,2)의 결과 : (1, 2, [3])\n",
      "z의 타입 : <class 'list'>\n",
      "A(1,2)의 결과 : (1, 2, [3, 4, 5])\n"
     ]
    }
   ],
   "execution_count": 5
  },
  {
   "metadata": {},
   "cell_type": "code",
   "outputs": [],
   "execution_count": null,
   "source": "",
   "id": "1af9e273a77d46fe"
  }
 ],
 "metadata": {
  "kernelspec": {
   "display_name": "Python 3",
   "language": "python",
   "name": "python3"
  },
  "language_info": {
   "codemirror_mode": {
    "name": "ipython",
    "version": 2
   },
   "file_extension": ".py",
   "mimetype": "text/x-python",
   "name": "python",
   "nbconvert_exporter": "python",
   "pygments_lexer": "ipython2",
   "version": "2.7.6"
  }
 },
 "nbformat": 4,
 "nbformat_minor": 5
}
