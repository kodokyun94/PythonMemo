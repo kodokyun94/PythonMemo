{
 "cells": [
  {
   "cell_type": "code",
   "id": "initial_id",
   "metadata": {
    "collapsed": true,
    "ExecuteTime": {
     "end_time": "2024-07-19T00:07:55.700246Z",
     "start_time": "2024-07-19T00:07:55.668396Z"
    }
   },
   "source": [
    "#마리아디비 연결 설정\n",
    "import pymysql\n"
   ],
   "outputs": [],
   "execution_count": 5
  },
  {
   "metadata": {
    "ExecuteTime": {
     "end_time": "2024-07-19T00:16:24.789050Z",
     "start_time": "2024-07-19T00:16:24.758820Z"
    }
   },
   "cell_type": "code",
   "source": [
    "#select 예제\n",
    "conn = pymysql.connect(\n",
    "host='127.0.0.1', \n",
    "user='root', \n",
    "password='123456',\n",
    "db='pydb', \n",
    "charset='utf8')\n",
    "cur = conn.cursor()\n",
    "cur.execute(\"SELECT * FROM book\")\n",
    "print(\"ID           title               publisher             author               writer   \")\n",
    "print(\"----------------------------------------------------------------------------------------------------\")\n",
    "\n",
    "while (True):\n",
    "    row = cur.fetchone()\n",
    "    if row == None:\n",
    "        break\n",
    "    data1 = row[0]\n",
    "    data2 = row[1]\n",
    "    data3 = row[2]\n",
    "    data4 = row[3]\n",
    "    data5 = row[4]\n",
    "    \n",
    "    print(\"%5s   %15s   %15s %15s %15s \\n\" % (data1, data2, data3, data4, data5))\n",
    "    # print(f\" ID: {data1}, title: {data2}, writer: {data3}\")\n",
    "\n",
    "conn.close()"
   ],
   "id": "735c605726afd332",
   "outputs": [
    {
     "name": "stdout",
     "output_type": "stream",
     "text": [
      "ID           title               publisher             author               writer   \n",
      "----------------------------------------------------------------------------------------------------\n"
     ]
    }
   ],
   "execution_count": 23
  },
  {
   "metadata": {
    "ExecuteTime": {
     "end_time": "2024-07-19T00:07:55.783669Z",
     "start_time": "2024-07-19T00:07:55.760352Z"
    }
   },
   "cell_type": "code",
   "source": [
    "#insert 예제\n",
    "def insert_book(data):\n",
    "    conn=pymysql.connect(host='localhost',user='root',password='123456', db='pydb', charset='utf8')\n",
    "    cursor=conn.cursor()\n",
    "    sql=\"insert into book(title,pub,pages,author) values(%s,%s,%s,%s)\"\n",
    "    cursor.execute(sql,data)\n",
    "    conn.commit()\n",
    "    conn.close()\n",
    "    \n",
    "data=('안드로이드','한빛',650,'홍길동')\n",
    "insert_book(data)\n",
    "\n",
    "def insert_book_list(datas):\n",
    "    conn=pymysql.connect(host='localhost',user='root',password='123456',db='pydb',charset='utf8')\n",
    "    cursor=conn.cursor()\n",
    "    sql=\"insert into book(title,pub,pages,author) values(%s,%s,%s,%s)\"\n",
    "    cursor.executemany(sql,datas)\n",
    "    conn.commit()\n",
    "    conn.close()\n",
    "datas=[('안드로이드','한빛',650,'홍길동'),\n",
    " ('Oracle DB','한빛',650,'홍길동'),\n",
    " ('Spring','영딘',650,'홍길동')]\n",
    "insert_book_list(datas)"
   ],
   "id": "ee29a6e7ff4ae575",
   "outputs": [],
   "execution_count": 7
  },
  {
   "metadata": {
    "ExecuteTime": {
     "end_time": "2024-07-19T00:07:55.795322Z",
     "start_time": "2024-07-19T00:07:55.784668Z"
    }
   },
   "cell_type": "code",
   "source": [
    "def update_book(data):\n",
    "    conn=pymysql.connect(host='localhost',user='root',password='123456',db='pydb',charset='utf8')\n",
    "    cursor=conn.cursor()\n",
    "    sql=\"update book set title=%s, pub=%s, pages=%s, author=%s where id=%s\"\n",
    "    cursor.execute(sql,data)\n",
    "    conn.commit()\n",
    "    conn.close()\n",
    "    \n",
    "data=('Java', '생능','700','홍길동',3)\n",
    "update_book(data)\n"
   ],
   "id": "6fa3e38973989c3b",
   "outputs": [],
   "execution_count": 8
  },
  {
   "metadata": {
    "ExecuteTime": {
     "end_time": "2024-07-19T00:07:55.803820Z",
     "start_time": "2024-07-19T00:07:55.796323Z"
    }
   },
   "cell_type": "code",
   "source": [
    "def delete_book(data):\n",
    "    conn=pymysql.connect(host='localhost',user='root',password='123456',db='pydb', charset='utf8')\n",
    "    cursor=conn.cursor()\n",
    "    sql=\"delete from book where id=%s\"\n",
    "    cursor.executemany(sql,data)\n",
    "    conn.commit()\n",
    "    conn.close()\n",
    "\n",
    "delete_book([39])\n"
   ],
   "id": "9263c6892da8078b",
   "outputs": [],
   "execution_count": 9
  },
  {
   "metadata": {
    "ExecuteTime": {
     "end_time": "2024-07-19T00:16:21.009523Z",
     "start_time": "2024-07-19T00:16:21.002248Z"
    }
   },
   "cell_type": "code",
   "source": [
    "def delete_all():\n",
    "    conn=pymysql.connect(host='localhost',user='root',password='123456',db='pydb', charset='utf8')\n",
    "    try:\n",
    "        cursor = conn.cursor()\n",
    "        # SQL 문 실행\n",
    "        sql = \"DELETE FROM book\"\n",
    "        cursor.execute(sql)\n",
    "        # 변경 사항 커밋\n",
    "        conn.commit()\n",
    "    finally:\n",
    "        # 커넥션 닫기\n",
    "        conn.close()\n",
    "    \n",
    "delete_all() "
   ],
   "id": "d610b273e71e86dc",
   "outputs": [],
   "execution_count": 22
  },
  {
   "metadata": {},
   "cell_type": "code",
   "source": "",
   "id": "450ecd3a8e8c806d",
   "outputs": [],
   "execution_count": null
  }
 ],
 "metadata": {
  "kernelspec": {
   "display_name": "Python 3",
   "language": "python",
   "name": "python3"
  },
  "language_info": {
   "codemirror_mode": {
    "name": "ipython",
    "version": 2
   },
   "file_extension": ".py",
   "mimetype": "text/x-python",
   "name": "python",
   "nbconvert_exporter": "python",
   "pygments_lexer": "ipython2",
   "version": "2.7.6"
  }
 },
 "nbformat": 4,
 "nbformat_minor": 5
}
