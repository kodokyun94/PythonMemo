{
 "cells": [
  {
   "cell_type": "code",
   "id": "initial_id",
   "metadata": {
    "collapsed": true,
    "ExecuteTime": {
     "end_time": "2024-07-19T02:28:29.874057Z",
     "start_time": "2024-07-19T02:28:19.851217Z"
    }
   },
   "source": [
    "import csv\n",
    "import time\n",
    "import datetime\n",
    "\n",
    "csvName = \"C:/Users/it/PycharmProjects/pythonProject122/ch9/static_crawling_bs4/SampleCsv_datetime_240719.csv\"\n",
    "\n",
    "with open(csvName,\"w\",newline=\"\",encoding=\"UTF-8\") as csvfile:\n",
    "    csvwriter = csv.writer(csvfile)\n",
    "    \n",
    "    #행에 정보 넣기\n",
    "    csvwriter.writerow(['연월일','시분초'])\n",
    "#상태 변수, 전체 반복 횟수 체크    \n",
    "count = 10    \n",
    "while count > 0:\n",
    "    count = count - 1\n",
    "    #날짜 및 시간 정보 가져오기\n",
    "    now=datetime.datetime.now()\n",
    "    yymmdd = now.strftime(\"%Y%m%d\")\n",
    "    hhmmss = now.strftime(\"%H%M%S\")\n",
    "    time_list = [yymmdd,hhmmss]\n",
    "    print(time_list)\n",
    "    \n",
    "    #위의 날짜,시간 정보 csv파일에 쓰기 작업\n",
    "    with open(csvName,\"a\",newline=\"\",encoding=\"UTF-8\") as csvfile:\n",
    "        csvwriter = csv.writer(csvfile)\n",
    "        csvwriter.writerow(time_list)\n",
    "        \n",
    "    time.sleep(1)    "
   ],
   "outputs": [
    {
     "name": "stdout",
     "output_type": "stream",
     "text": [
      "['20240719', '112819']\n",
      "['20240719', '112820']\n",
      "['20240719', '112821']\n",
      "['20240719', '112822']\n",
      "['20240719', '112823']\n",
      "['20240719', '112824']\n",
      "['20240719', '112825']\n",
      "['20240719', '112826']\n",
      "['20240719', '112827']\n",
      "['20240719', '112828']\n"
     ]
    }
   ],
   "execution_count": 4
  },
  {
   "metadata": {},
   "cell_type": "code",
   "outputs": [],
   "execution_count": null,
   "source": "",
   "id": "7fda7af84c14e069"
  }
 ],
 "metadata": {
  "kernelspec": {
   "display_name": "Python 3",
   "language": "python",
   "name": "python3"
  },
  "language_info": {
   "codemirror_mode": {
    "name": "ipython",
    "version": 2
   },
   "file_extension": ".py",
   "mimetype": "text/x-python",
   "name": "python",
   "nbconvert_exporter": "python",
   "pygments_lexer": "ipython2",
   "version": "2.7.6"
  }
 },
 "nbformat": 4,
 "nbformat_minor": 5
}
