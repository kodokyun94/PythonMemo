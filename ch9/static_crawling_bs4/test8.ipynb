{
 "cells": [
  {
   "cell_type": "code",
   "execution_count": null,
   "id": "initial_id",
   "metadata": {
    "collapsed": true
   },
   "outputs": [],
   "source": [
    "# <div class=\"item_todayseries\">\n",
    "#                         <div class=\"subtxt_thumb\">\n",
    "#                             <a href=\"/series/5811562\" class=\"info_cp\" data-tiara-layer=\"series_thumb\" data-tiara-id=\"5811562\" data-tiara-type=\"series\" data-tiara-ordnum=\"1\">\n",
    "#                                 <span class=\"screen_out\">출처</span>박영환의 시사1번지</a>\n",
    "#                         </div>\n",
    "#                         <a href=\"https://v.daum.net/v/20240719150302919\" class=\"wrap_thumb\" data-tiara-layer=\"series_thumb\" data-tiara-id=\"5811562\" data-tiara-type=\"series\" data-tiara-ordnum=\"1\">\n",
    "#                             <img src=\"https://img1.daumcdn.net/thumb/S224x140ht.u/?fname=https%3A%2F%2Ft1.daumcdn.net%2Fnews%2F202407%2F19%2Fkbc%2F20240719150308733kbfa.jpg&scode=media2\" class=\"thumb_g\" alt=\"韓 기소 취소 청탁 발언 변수? &quot;실수 아닌 정교하게 기획된 발언&quot;..&quot;전당대회 이후 문제 될 것&quot;[박영환의 시사1번지]\" />\n",
    "#                         </a>\n",
    "#                         <div class=\"cont_thumb\">\n",
    "#                             <strong class=\"tit_g\">\n",
    "#                                 <a href=\"https://v.daum.net/v/20240719150302919\" class=\"link_txt\" data-tiara-layer=\"article\" data-tiara-id=\"5811562\" data-tiara-type=\"series\" data-tiara-ordnum=\"1\">韓 기소 취소 청탁 발언 변수? \"실수 아닌 정교하게 기획된 발언\"..\"전당대회 이후 문제 될 것\"</a>\n",
    "#                             </strong>\n",
    "#                             <span class=\"info_thumb\">\n",
    "#                                 <span class=\"txt_info\">kbc광주방송</span>\n",
    "#                             </span>\n",
    "#                         </div>\n",
    "#                     </div>"
   ]
  },
  {
   "metadata": {
    "ExecuteTime": {
     "end_time": "2024-07-19T07:27:13.723127Z",
     "start_time": "2024-07-19T07:27:13.442683Z"
    }
   },
   "cell_type": "code",
   "source": [
    "import time\n",
    "import bs4\n",
    "import urllib.request\n",
    "\n",
    "nateUrl = \"https://news.daum.net/politics#1\"\n",
    "htmlObject = urllib.request.urlopen(nateUrl)\n",
    "webPage = htmlObject.read()\n",
    "bsObject = bs4.BeautifulSoup(webPage, 'html.parser')\n",
    "\n",
    "while True:\n",
    "    tag_list = bsObject.findAll('div', {'class': 'subtxt_thumb'})\n",
    "    \n",
    "    print('###### 실시간 뉴스 속보 #######')\n",
    "    num=1\n",
    "    for tag in tag_list:\n",
    "        info_cp = tag.find('a',{'class':'info_cp'})\n",
    "        \n",
    "        link = tag.find('a', {'class': 'lt1'})['href']\n",
    "        \n",
    "        pressAndDate = tag.find('span', {'class': 'medium'}).text\n",
    "        pressAndDate.replace('\\t', ' ')\n",
    "        pressAndDate.replace('\\n', '')\n",
    "\n",
    "        if len(pressAndDate.split()) == 3:\n",
    "            press, pDate, pTime = pressAndDate.split()\n",
    "        elif len(pressAndDate.split()) == 4:\n",
    "            press1, press2, pDate, pTime = pressAndDate.split()\n",
    "            press = press1+press2\n",
    "        else:\n",
    "            continue\n",
    "\n",
    "        print('(', num, ')', subject)\n",
    "        print('\\t https:'+link, press, pDate, pTime)\n",
    "        num += 1\n",
    "\n",
    "    time.sleep(60)"
   ],
   "id": "a9f4d05447b48cf",
   "outputs": [],
   "execution_count": 1
  },
  {
   "metadata": {},
   "cell_type": "code",
   "outputs": [],
   "execution_count": null,
   "source": "",
   "id": "8958cea2c70eaa1f"
  }
 ],
 "metadata": {
  "kernelspec": {
   "display_name": "Python 3",
   "language": "python",
   "name": "python3"
  },
  "language_info": {
   "codemirror_mode": {
    "name": "ipython",
    "version": 2
   },
   "file_extension": ".py",
   "mimetype": "text/x-python",
   "name": "python",
   "nbconvert_exporter": "python",
   "pygments_lexer": "ipython2",
   "version": "2.7.6"
  }
 },
 "nbformat": 4,
 "nbformat_minor": 5
}
