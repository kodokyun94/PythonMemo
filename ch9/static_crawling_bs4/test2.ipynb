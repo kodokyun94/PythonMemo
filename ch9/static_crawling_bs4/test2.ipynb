{
 "cells": [
  {
   "cell_type": "code",
   "id": "initial_id",
   "metadata": {
    "collapsed": true,
    "ExecuteTime": {
     "end_time": "2024-07-19T01:10:49.039593Z",
     "start_time": "2024-07-19T01:10:49.032996Z"
    }
   },
   "source": [
    "import bs4\n",
    "\n",
    "webPage=open(\"C:/Users/it/PycharmProjects/pythonProject122/ch9/static_crawling_bs4/Sample02.html\",\"rt\",encoding=\"utf-8\").read()\n",
    "bsObject = bs4.BeautifulSoup(webPage,\"html.parser\")\n",
    "\n",
    "tag_div = bsObject.find(\"div\")\n",
    "print(tag_div)\n",
    "\n",
    "tag_ul = bsObject.find(\"ul\")\n",
    "print(tag_ul)\n",
    "\n",
    "tag_li = bsObject.find(\"li\")\n",
    "print(tag_li)\n",
    "\n",
    "tag_lis = bsObject.findAll(\"li\")\n",
    "print(tag_lis)"
   ],
   "outputs": [
    {
     "name": "stdout",
     "output_type": "stream",
     "text": [
      "<div> 요기를 클릭하세요 </div>\n",
      "<ul>\n",
      "<li> 한빛출판네트워크 </li>\n",
      "<li> 비기너 </li>\n",
      "<li> 데이터 분석 </li>\n",
      "</ul>\n",
      "<li> 한빛출판네트워크 </li>\n",
      "[<li> 한빛출판네트워크 </li>, <li> 비기너 </li>, <li> 데이터 분석 </li>]\n"
     ]
    }
   ],
   "execution_count": 4
  },
  {
   "metadata": {
    "ExecuteTime": {
     "end_time": "2024-07-19T01:31:16.947308Z",
     "start_time": "2024-07-19T01:31:16.940148Z"
    }
   },
   "cell_type": "code",
   "source": [
    "import bs4\n",
    "\n",
    "webPage=open(\"C:/Users/it/PycharmProjects/pythonProject122/ch9/static_crawling_bs4/Sample03.html\",\"rt\",encoding=\"utf-8\").read()\n",
    "bsObject = bs4.BeautifulSoup(webPage,\"html.parser\")\n",
    "\n",
    "tag=bsObject.find(\"div\",{'id': 'myId1'})\n",
    "tag_text=tag.text\n",
    "print(tag)\n",
    "print(tag_text)\n",
    "\n",
    "tag_class = bsObject.find(\"div\",{\"class\": \"myClass1\"})\n",
    "tag_class_text=tag_class.text\n",
    "print(tag_class)\n",
    "print(tag_class_text)\n",
    "\n",
    "tag_li_list = bsObject.findAll(\"li\",{\"class\": \"myClass3\"})\n",
    "print(tag_li_list)\n",
    "\n",
    "tag_alist = bsObject.findAll(\"a\")\n",
    "print(tag_alist)\n",
    "\n",
    "for aTag in tag_alist:\n",
    "    print(aTag['href'])\n",
    "    \n",
    "tag_li_all = bsObject.findAll(\"li\")\n",
    "print(tag_li_all)\n",
    "\n",
    "for i in range(len(tag_li_all)):\n",
    "    print(tag_li_all[i].text)"
   ],
   "id": "3705a6b21e92ed27",
   "outputs": [
    {
     "name": "stdout",
     "output_type": "stream",
     "text": [
      "<div id=\"myId1\"> 아기공룡 </div>\n",
      " 아기공룡 \n",
      "<div class=\"myClass1\"> 내 친구 </div>\n",
      " 내 친구 \n",
      "[<li class=\"myClass3\"> 비기너 </li>, <li class=\"myClass3\"> 시리즈 </li>]\n",
      "[<a href=\"www.daum.net\"> 다음 바로가기 </a>, <a href=\"www.nate.com\"> 네이트 바로가기 </a>, <a href=\"www.naver.com\"> 네이버 바로가기 </a>]\n",
      "www.daum.net\n",
      "www.nate.com\n",
      "www.naver.com\n",
      "[<li> 한빛아카데미 </li>, <li> 한빛미디어 </li>, <li class=\"myClass3\"> 비기너 </li>, <li class=\"myClass3\"> 시리즈 </li>]\n",
      " 한빛아카데미 \n",
      " 한빛미디어 \n",
      " 비기너 \n",
      " 시리즈 \n"
     ]
    }
   ],
   "execution_count": 13
  },
  {
   "metadata": {},
   "cell_type": "code",
   "outputs": [],
   "execution_count": null,
   "source": "",
   "id": "a3a486bef5a2324a"
  }
 ],
 "metadata": {
  "kernelspec": {
   "display_name": "Python 3",
   "language": "python",
   "name": "python3"
  },
  "language_info": {
   "codemirror_mode": {
    "name": "ipython",
    "version": 2
   },
   "file_extension": ".py",
   "mimetype": "text/x-python",
   "name": "python",
   "nbconvert_exporter": "python",
   "pygments_lexer": "ipython2",
   "version": "2.7.6"
  }
 },
 "nbformat": 4,
 "nbformat_minor": 5
}
