{
 "cells": [
  {
   "cell_type": "code",
   "execution_count": null,
   "id": "initial_id",
   "metadata": {
    "collapsed": true
   },
   "outputs": [],
   "source": [
    "\t# <div class=\"mduSubjectList\">\t\n",
    "\t# \t<div class=\"mlt01\">\n",
    "\t# \t\t<a href=\"//news.nate.com/view/20240719n16586?mid=n0100\"  class=\"lt1\">\n",
    "\t# \t\t\t<span class=\"ib\">\n",
    "\t# \t\t\t\t<em class=\"mediatype\">\n",
    "\t# \t\t\t\t\t\t\t\t\t\t\t\t<img src=\"//thumbnews.nateimg.co.kr/news90///news.nateimg.co.kr/orgImg/na/2024/07/19/6768831_high.jpg\" width=\"90\" onerror=\"ImgError(this,'//news.nateimg.co.kr/orgImg/na/2024/07/19/6768831_high.jpg','90');\" alt=\"\" />\n",
    "\t# \t\t\t\t\t\t\t\t\t\t\t\t\t\t\t\t</em>\n",
    "\t# \t\t\t</span>\t\t\t\t<span class=\"tb\">\n",
    "\t# \t\t\t\t\t\t\t\t\t<h2 class=\"tit\">尹 탄핵청원 청문회 격돌…고성·몸싸움에 野 의원 부상</h2>\n",
    "\t# \t\t\t\t\t\t\t\t\t\t\t\t\t\t\t\t유상범 국민의힘 간사 등이 19일 오전 서울 여의도 국회 법제사법위원회에서 열린 '윤석열 대통령 탄핵소추안 즉각 발의 요청에 관한 청원 관련 1차 청문회'에서 정청래 위...\n",
    "\t# \t\t\t\t\t\t\t\t\t\t\t\t\t\t</span>\n",
    "\t# \t\t</a>\n",
    "\t# \t\t<span class=\"medium\">뉴스1\t\t\t\t\t\t\t\t\t<em>07-19 13:44</em>\n",
    "\t# \t\t\t\t\t\t</span>\n",
    "\t# \t</div>\n",
    "\t# </div>\t\n",
    "\t# \n",
    "\t# \t\t<div class=\"mduSubjectList\">\t\n",
    "\t# \t<div class=\"mlt01\">\n",
    "\t# \t\t<a href=\"//news.nate.com/view/20240719n08852?mid=n0100\"  class=\"lt1\">\n",
    "\t# \t\t\t<span class=\"ib\">"
   ]
  },
  {
   "metadata": {
    "jupyter": {
     "is_executing": true
    },
    "ExecuteTime": {
     "start_time": "2024-07-19T05:55:14.340472Z"
    }
   },
   "cell_type": "code",
   "source": [
    "import time\n",
    "import bs4\n",
    "import urllib.request\n",
    "\n",
    "# 네이트 실시간 뉴스 정보 -> 콘솔, 조금 코드를 수정해서, mysql 자동으로 저장.\n",
    "#          https://news.nate.com/recent?mid=n0100\n",
    "nateUrl = \"https://news.nate.com/recent?mid=n0100\"\n",
    "htmlObject = urllib.request.urlopen(nateUrl)\n",
    "webPage = htmlObject.read()\n",
    "bsObject = bs4.BeautifulSoup(webPage, 'html.parser')\n",
    "\n",
    "while True:\n",
    "    # div.mlt01 -> 정보가 20개,\n",
    "    # 각 기사의 모델 , 속성 포맷이 같음.\n",
    "    # tag_list<mlt01>\n",
    "    tag_list = bsObject.findAll('div', {'class': 'mlt01'})\n",
    "\n",
    "    print('###### 실시간 뉴스 속보 #######')\n",
    "    num = 1\n",
    "    for tag in tag_list:\n",
    "        # 각 기사에서 , 특정 정보를 추출하는 작업.\n",
    "        subject = tag.find('h2', {'class': 'tit'}).text\n",
    "        link = tag.find('a', {'class': 'lt1'})['href']\n",
    "        pressAndDate = tag.find('span', {'class': 'medium'}).text\n",
    "        pressAndDate.replace('\\t', ' ')\n",
    "        pressAndDate.replace('\\n', '')\n",
    "\n",
    "        if len(pressAndDate.split()) == 3:\n",
    "            press, pDate, pTime = pressAndDate.split()\n",
    "        elif len(pressAndDate.split()) == 4:\n",
    "            press1, press2, pDate, pTime = pressAndDate.split()\n",
    "            press = press1+press2\n",
    "        else:\n",
    "            continue\n",
    "\n",
    "        print('(', num, ')', subject)\n",
    "        print('\\t https:'+link, press, pDate, pTime)\n",
    "        num += 1\n",
    "\n",
    "    time.sleep(60)"
   ],
   "id": "16dd95aa078523a9",
   "outputs": [
    {
     "name": "stdout",
     "output_type": "stream",
     "text": [
      "###### 실시간 뉴스 속보 #######\n",
      "( 1 ) KBO 신인드래프트, 아시아청소년선수권으로 이틀 연기…9월 11일\n",
      "\t https://news.nate.com/view/20240719n20091?mid=n0100 SBS 07-19 14:32\n",
      "( 2 ) 지예은 \"학창시절 소녀시대 '제10 멤버' 되는 게 꿈이었다\" (침착맨)\n",
      "\t https://news.nate.com/view/20240719n20090?mid=n0100 스포츠경향 07-19 14:32\n",
      "( 3 ) 병원갈 때 신분증과 '나의 건강기록' 앱도 챙기세요\n",
      "\t https://news.nate.com/view/20240719n20089?mid=n0100 정책브리핑 07-19 14:32\n",
      "( 4 ) 트럼프 \"김정은, 날 기다릴 것…핵무기 많은 자와 잘 지내는게 좋아\"\n",
      "\t https://news.nate.com/view/20240719n16047?mid=n0100 조선일보 07-19 14:32\n",
      "( 5 ) KBO의 역수출 성공작, MLB 복귀 1년도 안돼 트레이드 시장의 '뜨거운 감자'로···MLB닷컴 \"페디, 마감일 앞두고 큰 매물 될 것\"\n",
      "\t https://news.nate.com/view/20240719n20087?mid=n0100 스포츠경향 07-19 14:32\n",
      "( 6 ) '우상혁 라이벌' 바심, 20일 파리올림픽 '최종 모의고사'\n",
      "\t https://news.nate.com/view/20240719n20086?mid=n0100 SBS 07-19 14:32\n",
      "( 7 ) 원희룡 국민의힘 당대표 후보, '방송 토론회 앞두고'\n",
      "\t https://news.nate.com/view/20240719n20084?mid=n0100 뉴스핌 07-19 14:32\n",
      "( 8 ) 野·연금행동 \"尹정부, 연금개혁 공식案 속히 제시해야\"\n",
      "\t https://news.nate.com/view/20240719n20083?mid=n0100 노컷뉴스 07-19 14:32\n",
      "( 9 ) 윤상현 국민의힘 당대표 후보, '방송 토론회 앞두고'\n",
      "\t https://news.nate.com/view/20240719n20082?mid=n0100 뉴스핌 07-19 14:32\n",
      "( 10 ) 트럼프, 대선후보 수락연설 역대 최장 90분…취임 첫날 한다는 일\n",
      "\t https://news.nate.com/view/20240719n20081?mid=n0100 아시아투데이 07-19 14:32\n",
      "( 11 ) 63살 최화정 \"결혼했다면 지금 X됐을 것, 좋은 남자랑 옆 동에 살고 싶어\" 솔직 고백(비보티비)\n",
      "\t https://news.nate.com/view/20240719n20080?mid=n0100 마이데일리 07-19 14:32\n",
      "( 12 ) 한동훈 국민의힘 당대표 후보, '방송 토론회 앞두고'\n",
      "\t https://news.nate.com/view/20240719n20079?mid=n0100 뉴스핌 07-19 14:32\n",
      "( 13 ) 김관영 전북자치도지사, 카카오테크 부트캠프 유치 논의\n",
      "\t https://news.nate.com/view/20240719n20078?mid=n0100 뉴스핌 07-19 14:32\n",
      "( 14 ) \"나와 정반대\"…이주승, 하롱베이서 3살 터울 친형과 상봉(나혼산)[MK★TV컷]\n",
      "\t https://news.nate.com/view/20240719n20077?mid=n0100 MK스포츠 07-19 14:32\n",
      "( 15 ) '홍수위 7m' 순천 주암댐 초당 200톤 방류…23일까지 수문 개방\n",
      "\t https://news.nate.com/view/20240719n20076?mid=n0100 뉴스1 07-19 14:32\n",
      "( 16 ) [화보] 아일리원(ILY:1) 엘바-나유-로나 '몽골 대자연을 품은 카리스마'\n",
      "\t https://news.nate.com/view/20240719n20075?mid=n0100 bnt뉴스 07-19 14:32\n",
      "( 17 ) 김진경 의원, 19일 제11대 경기도의회 후반기 의장 선출\n",
      "\t https://news.nate.com/view/20240719n20074?mid=n0100 뉴스핌 07-19 14:32\n",
      "( 18 ) '아육대', 이찬원부터 영탁까지…역대급 7MC 라인업\n",
      "\t https://news.nate.com/view/20240719n20073?mid=n0100 스포츠한국 07-19 14:32\n",
      "( 19 ) 스트레이 키즈 필릭스 '현실 만찢남'\n",
      "\t https://news.nate.com/view/20240719n20072?mid=n0100 스포츠한국 07-19 14:32\n",
      "( 20 ) 화성 신축아파트 지하주차장 물난리\n",
      "\t https://news.nate.com/view/20240719n20071?mid=n0100 쿠키뉴스 07-19 14:32\n"
     ]
    }
   ],
   "execution_count": null
  },
  {
   "metadata": {},
   "cell_type": "code",
   "outputs": [],
   "execution_count": null,
   "source": "",
   "id": "8ec2953eec7be762"
  }
 ],
 "metadata": {
  "kernelspec": {
   "display_name": "Python 3",
   "language": "python",
   "name": "python3"
  },
  "language_info": {
   "codemirror_mode": {
    "name": "ipython",
    "version": 2
   },
   "file_extension": ".py",
   "mimetype": "text/x-python",
   "name": "python",
   "nbconvert_exporter": "python",
   "pygments_lexer": "ipython2",
   "version": "2.7.6"
  }
 },
 "nbformat": 4,
 "nbformat_minor": 5
}
