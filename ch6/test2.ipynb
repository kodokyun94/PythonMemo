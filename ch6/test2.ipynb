{
 "cells": [
  {
   "cell_type": "code",
   "id": "initial_id",
   "metadata": {
    "collapsed": true,
    "ExecuteTime": {
     "end_time": "2024-07-18T06:09:37.087457Z",
     "start_time": "2024-07-18T06:09:37.082372Z"
    }
   },
   "source": [
    "class Product(object):\n",
    "    pass\n",
    "\n",
    "class Inventory(object):\n",
    "    def __init__(self):\n",
    "        self.__items = []\n",
    "    \n",
    "    #외부에서 사용가능하게하는 @propert 사용\n",
    "    @property\n",
    "    def items(self):\n",
    "        return self.__items\n",
    "    \n",
    "    def addNewItem(self, product):\n",
    "        if type(product) == Product:\n",
    "            self.__items.append(product)\n",
    "            print(\"Item added\")\n",
    "        else:\n",
    "            raise ValueError(\"Item is not a Product\")\n",
    "    \n",
    "    def getNumberOfItems(self):\n",
    "        return len(self.__items)"
   ],
   "outputs": [],
   "execution_count": 10
  },
  {
   "metadata": {
    "ExecuteTime": {
     "end_time": "2024-07-18T06:09:37.092971Z",
     "start_time": "2024-07-18T06:09:37.089454Z"
    }
   },
   "cell_type": "code",
   "source": [
    "myInventory = Inventory()\n",
    "myInventory.addNewItem(Product())\n",
    "myInventory.addNewItem(Product())\n",
    "#함수 이용해서 접근\n",
    "items = myInventory.items\n",
    "items.append(Product())"
   ],
   "id": "e54092d1bcfafeab",
   "outputs": [
    {
     "name": "stdout",
     "output_type": "stream",
     "text": [
      "Item added\n",
      "Item added\n"
     ]
    }
   ],
   "execution_count": 11
  },
  {
   "metadata": {
    "ExecuteTime": {
     "end_time": "2024-07-18T06:09:37.096221Z",
     "start_time": "2024-07-18T06:09:37.093973Z"
    }
   },
   "cell_type": "code",
   "source": "",
   "id": "3d68eeaa2ada7877",
   "outputs": [],
   "execution_count": 11
  }
 ],
 "metadata": {
  "kernelspec": {
   "display_name": "Python 3",
   "language": "python",
   "name": "python3"
  },
  "language_info": {
   "codemirror_mode": {
    "name": "ipython",
    "version": 2
   },
   "file_extension": ".py",
   "mimetype": "text/x-python",
   "name": "python",
   "nbconvert_exporter": "python",
   "pygments_lexer": "ipython2",
   "version": "2.7.6"
  }
 },
 "nbformat": 4,
 "nbformat_minor": 5
}
