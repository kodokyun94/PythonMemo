{
 "cells": [
  {
   "cell_type": "code",
   "id": "initial_id",
   "metadata": {
    "collapsed": true,
    "ExecuteTime": {
     "end_time": "2024-07-18T04:59:22.921998Z",
     "start_time": "2024-07-18T04:59:22.915121Z"
    }
   },
   "source": [
    "case1 = [\"A\",\"B\",\"C\"]\n",
    "case2 = [\"1\",\"2\",\"3\"]\n",
    "\n",
    "#1차원 리스트,\n",
    "result = [i + j for i in case1 for j in case2]\n",
    "print(result)"
   ],
   "outputs": [
    {
     "name": "stdout",
     "output_type": "stream",
     "text": [
      "['A1', 'A2', 'A3', 'B1', 'B2', 'B3', 'C1', 'C2', 'C3']\n"
     ]
    }
   ],
   "execution_count": 1
  },
  {
   "metadata": {
    "ExecuteTime": {
     "end_time": "2024-07-18T05:00:25.363350Z",
     "start_time": "2024-07-18T05:00:25.359932Z"
    }
   },
   "cell_type": "code",
   "source": [
    "#2차원 리스트,\n",
    "result = [[i + j for i in case1] for j in case2]\n",
    "print(result)"
   ],
   "id": "9e91bec3cd6b7302",
   "outputs": [
    {
     "name": "stdout",
     "output_type": "stream",
     "text": [
      "[['A1', 'B1', 'C1'], ['A2', 'B2', 'C2'], ['A3', 'B3', 'C3']]\n"
     ]
    }
   ],
   "execution_count": 2
  },
  {
   "metadata": {
    "ExecuteTime": {
     "end_time": "2024-07-18T05:01:54.079749Z",
     "start_time": "2024-07-18T05:01:54.076228Z"
    }
   },
   "cell_type": "code",
   "source": [
    "for i,j in enumerate(result):\n",
    "    print(i,j)"
   ],
   "id": "2fc92ffe75c9801c",
   "outputs": [
    {
     "name": "stdout",
     "output_type": "stream",
     "text": [
      "0 ['A1', 'B1', 'C1']\n",
      "1 ['A2', 'B2', 'C2']\n",
      "2 ['A3', 'B3', 'C3']\n"
     ]
    }
   ],
   "execution_count": 3
  },
  {
   "metadata": {
    "ExecuteTime": {
     "end_time": "2024-07-18T05:03:05.949Z",
     "start_time": "2024-07-18T05:03:05.944533Z"
    }
   },
   "cell_type": "code",
   "source": [
    "for a,b in zip(case1,case2):\n",
    "    print(a,b)"
   ],
   "id": "70b3f53222bc4cb5",
   "outputs": [
    {
     "name": "stdout",
     "output_type": "stream",
     "text": [
      "A 1\n",
      "B 2\n",
      "C 3\n"
     ]
    }
   ],
   "execution_count": 4
  },
  {
   "metadata": {},
   "cell_type": "code",
   "outputs": [],
   "execution_count": null,
   "source": "",
   "id": "39a688ec58bb3e2a"
  }
 ],
 "metadata": {
  "kernelspec": {
   "display_name": "Python 3",
   "language": "python",
   "name": "python3"
  },
  "language_info": {
   "codemirror_mode": {
    "name": "ipython",
    "version": 2
   },
   "file_extension": ".py",
   "mimetype": "text/x-python",
   "name": "python",
   "nbconvert_exporter": "python",
   "pygments_lexer": "ipython2",
   "version": "2.7.6"
  }
 },
 "nbformat": 4,
 "nbformat_minor": 5
}
