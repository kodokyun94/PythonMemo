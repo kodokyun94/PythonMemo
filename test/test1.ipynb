{
 "cells": [
  {
   "cell_type": "code",
   "id": "initial_id",
   "metadata": {
    "collapsed": true,
    "ExecuteTime": {
     "end_time": "2024-07-17T01:27:26.985427Z",
     "start_time": "2024-07-17T01:27:26.982328Z"
    }
   },
   "source": "print(\"오늘 점심 뭐 먹죠?\")",
   "outputs": [
    {
     "name": "stdout",
     "output_type": "stream",
     "text": [
      "오늘 점심 뭐 먹죠?\n"
     ]
    }
   ],
   "execution_count": 3
  },
  {
   "metadata": {
    "ExecuteTime": {
     "end_time": "2024-07-17T01:36:11.617902Z",
     "start_time": "2024-07-17T01:36:11.614024Z"
    }
   },
   "cell_type": "code",
   "source": [
    "lunchMenu = '비빔밥'\n",
    "price = 8000\n",
    "print(lunchMenu,price)\n",
    "print(type(lunchMenu),type(price))"
   ],
   "id": "2ef6b627fd0cc31a",
   "outputs": [
    {
     "name": "stdout",
     "output_type": "stream",
     "text": [
      "비빔밥 8000\n",
      "<class 'str'> <class 'int'>\n"
     ]
    }
   ],
   "execution_count": 5
  },
  {
   "metadata": {
    "ExecuteTime": {
     "end_time": "2024-07-17T01:37:37.894030Z",
     "start_time": "2024-07-17T01:37:37.889899Z"
    }
   },
   "cell_type": "code",
   "source": [
    "priceFloat = float(price)\n",
    "priceStr = str(price)\n",
    "print(priceFloat,priceStr)\n",
    "print(type(priceFloat),type(priceStr))"
   ],
   "id": "546eed2a35d372fa",
   "outputs": [
    {
     "name": "stdout",
     "output_type": "stream",
     "text": [
      "8000.0 8000\n",
      "<class 'float'> <class 'str'>\n"
     ]
    }
   ],
   "execution_count": 7
  },
  {
   "metadata": {
    "ExecuteTime": {
     "end_time": "2024-07-17T01:39:02.079849Z",
     "start_time": "2024-07-17T01:39:02.075830Z"
    }
   },
   "cell_type": "code",
   "source": [
    "varA = 1\n",
    "print(id(varA))"
   ],
   "id": "899d9b7934c8605c",
   "outputs": [
    {
     "name": "stdout",
     "output_type": "stream",
     "text": [
      "140716179388856\n"
     ]
    }
   ],
   "execution_count": 8
  },
  {
   "metadata": {
    "ExecuteTime": {
     "end_time": "2024-07-17T01:43:35.934291Z",
     "start_time": "2024-07-17T01:43:35.929855Z"
    }
   },
   "cell_type": "code",
   "source": "print(\"오늘 먹을 점심 : %s, 가격 : %d원\" %(lunchMenu,price))",
   "id": "bf368ee2015e3674",
   "outputs": [
    {
     "name": "stdout",
     "output_type": "stream",
     "text": [
      "오늘 먹을 점심 : 비빔밥, 가격 : 8000원\n"
     ]
    }
   ],
   "execution_count": 9
  },
  {
   "metadata": {
    "ExecuteTime": {
     "end_time": "2024-07-17T01:45:41.745536Z",
     "start_time": "2024-07-17T01:45:41.741784Z"
    }
   },
   "cell_type": "code",
   "source": "print(f\"오늘 먹을 점심 : {lunchMenu}, 가격 : {price}원\")",
   "id": "8e587c9550d55d0b",
   "outputs": [
    {
     "name": "stdout",
     "output_type": "stream",
     "text": [
      "오늘 먹을 점심 : 비빔밥, 가격 : 8000원\n"
     ]
    }
   ],
   "execution_count": 11
  },
  {
   "metadata": {
    "ExecuteTime": {
     "end_time": "2024-07-17T01:47:52.095293Z",
     "start_time": "2024-07-17T01:47:46.321394Z"
    }
   },
   "cell_type": "code",
   "source": [
    "todayLunchMenuInput = input(\"오늘 먹고 싶은 메뉴 입력 해 주시죠?\")\n",
    "print(f\"오늘 먹을 점심 : {todayLunchMenuInput} !!!\")"
   ],
   "id": "25643a107097984d",
   "outputs": [
    {
     "name": "stdout",
     "output_type": "stream",
     "text": [
      "오늘 먹을 점심 : 비빔밥 !!!\n"
     ]
    }
   ],
   "execution_count": 12
  },
  {
   "metadata": {},
   "cell_type": "code",
   "outputs": [],
   "execution_count": null,
   "source": "",
   "id": "6ddcb6db59ef474c"
  }
 ],
 "metadata": {
  "kernelspec": {
   "display_name": "Python 3",
   "language": "python",
   "name": "python3"
  },
  "language_info": {
   "codemirror_mode": {
    "name": "ipython",
    "version": 2
   },
   "file_extension": ".py",
   "mimetype": "text/x-python",
   "name": "python",
   "nbconvert_exporter": "python",
   "pygments_lexer": "ipython2",
   "version": "2.7.6"
  }
 },
 "nbformat": 4,
 "nbformat_minor": 5
}
