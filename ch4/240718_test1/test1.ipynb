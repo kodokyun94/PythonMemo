{
 "cells": [
  {
   "cell_type": "code",
   "id": "initial_id",
   "metadata": {
    "collapsed": true,
    "ExecuteTime": {
     "end_time": "2024-07-18T02:27:47.306785Z",
     "start_time": "2024-07-18T02:27:47.302112Z"
    }
   },
   "source": [
    "todayLunchMenu = {\"menu1\":\"된장찌개\",\"menu2\":\"도시락\",\"menu3\":\"참깨라면\"}\n",
    "print(todayLunchMenu)"
   ],
   "outputs": [
    {
     "name": "stdout",
     "output_type": "stream",
     "text": [
      "{'menu1': '된장찌개', 'menu2': '도시락', 'menu3': '참깨라면'}\n"
     ]
    }
   ],
   "execution_count": 1
  },
  {
   "metadata": {
    "ExecuteTime": {
     "end_time": "2024-07-18T02:28:56.590007Z",
     "start_time": "2024-07-18T02:28:56.586015Z"
    }
   },
   "cell_type": "code",
   "source": [
    "for k,v in todayLunchMenu.items():\n",
    "    print(f\"k키 : {k}, v값 : {v}\")"
   ],
   "id": "b1363281ee8b365d",
   "outputs": [
    {
     "name": "stdout",
     "output_type": "stream",
     "text": [
      "k키 : menu1, v값 : 된장찌개\n",
      "k키 : menu2, v값 : 도시락\n",
      "k키 : menu3, v값 : 참깨라면\n"
     ]
    }
   ],
   "execution_count": 4
  },
  {
   "metadata": {
    "ExecuteTime": {
     "end_time": "2024-07-18T02:30:05.257756Z",
     "start_time": "2024-07-18T02:30:05.253237Z"
    }
   },
   "cell_type": "code",
   "source": "'도시락' in todayLunchMenu.values()",
   "id": "8ca90b9570e950ee",
   "outputs": [
    {
     "data": {
      "text/plain": [
       "True"
      ]
     },
     "execution_count": 6,
     "metadata": {},
     "output_type": "execute_result"
    }
   ],
   "execution_count": 6
  },
  {
   "metadata": {
    "ExecuteTime": {
     "end_time": "2024-07-18T02:41:21.323135Z",
     "start_time": "2024-07-18T02:41:21.318856Z"
    }
   },
   "cell_type": "code",
   "source": [
    "from collections import deque\n",
    "dequeList = deque()\n",
    "for i in range(5):\n",
    "    dequeList.appendleft(i)\n",
    "    \n",
    "print(dequeList)"
   ],
   "id": "5461d4c09722a03",
   "outputs": [
    {
     "name": "stdout",
     "output_type": "stream",
     "text": [
      "deque([4, 3, 2, 1, 0])\n"
     ]
    }
   ],
   "execution_count": 7
  },
  {
   "metadata": {
    "ExecuteTime": {
     "end_time": "2024-07-18T02:48:36.118156Z",
     "start_time": "2024-07-18T02:48:36.114409Z"
    }
   },
   "cell_type": "code",
   "source": [
    "dequeList.rotate(1)\n",
    "print(dequeList)"
   ],
   "id": "c86ec44a12adaa5a",
   "outputs": [
    {
     "name": "stdout",
     "output_type": "stream",
     "text": [
      "deque([1, 0, 4, 3, 2])\n"
     ]
    }
   ],
   "execution_count": 18
  },
  {
   "metadata": {
    "ExecuteTime": {
     "end_time": "2024-07-18T02:49:44.083529Z",
     "start_time": "2024-07-18T02:49:44.079725Z"
    }
   },
   "cell_type": "code",
   "source": [
    "dequeList.rotate(1)\n",
    "print(dequeList)"
   ],
   "id": "fd392479c71a7b26",
   "outputs": [
    {
     "name": "stdout",
     "output_type": "stream",
     "text": [
      "deque([2, 1, 0, 4, 3])\n"
     ]
    }
   ],
   "execution_count": 20
  },
  {
   "metadata": {
    "ExecuteTime": {
     "end_time": "2024-07-18T02:50:01.477773Z",
     "start_time": "2024-07-18T02:50:01.472721Z"
    }
   },
   "cell_type": "code",
   "source": [
    "# 정렬 해보기. \n",
    "# OrderdDict , 순서있는 딕션너리 이용하기. \n",
    "def sort_by_key(t):\n",
    "  return t[0]\n",
    "\n",
    "from collections import OrderedDict\n",
    "d= OrderedDict()\n",
    "d[\"x\"] = 1\n",
    "d[\"b\"] = 2\n",
    "d[\"d\"] = 4\n",
    "d[\"c\"] = 3\n",
    "d[\"e\"] = 5\n",
    "\n",
    "# key 정렬해보기. \n",
    "for k,v in OrderedDict(sorted(d.items(), key=sort_by_key)).items():\n",
    "  print(f\"key : {k}, value : {v}\")"
   ],
   "id": "f5ca36e6ac65a39d",
   "outputs": [
    {
     "name": "stdout",
     "output_type": "stream",
     "text": [
      "key : b, value : 2\n",
      "key : c, value : 3\n",
      "key : d, value : 4\n",
      "key : e, value : 5\n",
      "key : x, value : 1\n"
     ]
    }
   ],
   "execution_count": 21
  },
  {
   "metadata": {},
   "cell_type": "code",
   "outputs": [],
   "execution_count": null,
   "source": "\n",
   "id": "e022d9e4bfef0dd0"
  }
 ],
 "metadata": {
  "kernelspec": {
   "display_name": "Python 3",
   "language": "python",
   "name": "python3"
  },
  "language_info": {
   "codemirror_mode": {
    "name": "ipython",
    "version": 2
   },
   "file_extension": ".py",
   "mimetype": "text/x-python",
   "name": "python",
   "nbconvert_exporter": "python",
   "pygments_lexer": "ipython2",
   "version": "2.7.6"
  }
 },
 "nbformat": 4,
 "nbformat_minor": 5
}
